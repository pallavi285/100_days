{
 "cells": [
  {
   "cell_type": "markdown",
   "id": "2ee5fb3c",
   "metadata": {},
   "source": [
    "# Loops"
   ]
  }
 ],
 "metadata": {
  "language_info": {
   "name": "python"
  }
 },
 "nbformat": 4,
 "nbformat_minor": 5
}
