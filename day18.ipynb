{
 "cells": [
  {
   "cell_type": "markdown",
   "id": "0fe8ea7e",
   "metadata": {},
   "source": [
    "# Fibonacci (iterative and recursive)"
   ]
  }
 ],
 "metadata": {
  "language_info": {
   "name": "python"
  }
 },
 "nbformat": 4,
 "nbformat_minor": 5
}
