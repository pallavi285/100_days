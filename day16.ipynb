{
 "cells": [
  {
   "cell_type": "markdown",
   "id": "847e9dcb",
   "metadata": {},
   "source": [
    "# REVISION OF DAY 7 TO DAY 15"
   ]
  }
 ],
 "metadata": {
  "language_info": {
   "name": "python"
  }
 },
 "nbformat": 4,
 "nbformat_minor": 5
}
