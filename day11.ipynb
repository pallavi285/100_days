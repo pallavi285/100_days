{
 "cells": [
  {
   "cell_type": "markdown",
   "id": "63c42a1c",
   "metadata": {},
   "source": [
    "# Break ,continuous, pass"
   ]
  }
 ],
 "metadata": {
  "language_info": {
   "name": "python"
  }
 },
 "nbformat": 4,
 "nbformat_minor": 5
}
