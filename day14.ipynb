{
 "cells": [
  {
   "cell_type": "markdown",
   "id": "99f4cc28",
   "metadata": {},
   "source": [
    "# Pattern Printing"
   ]
  }
 ],
 "metadata": {
  "language_info": {
   "name": "python"
  }
 },
 "nbformat": 4,
 "nbformat_minor": 5
}
