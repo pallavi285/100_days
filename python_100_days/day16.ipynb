{
 "cells": [
  {
   "cell_type": "markdown",
   "id": "948e81b6",
   "metadata": {},
   "source": [
    "## *args (Non-keyword variable arguments)"
   ]
  },
  {
   "cell_type": "markdown",
   "id": "8774d425",
   "metadata": {},
   "source": [
    "- *args allows to pass **any number of positional arguments** to a funtion.\n",
    "- Inside the function, *args* is treated as a **tuple**."
   ]
  },
  {
   "cell_type": "code",
   "execution_count": 21,
   "id": "8f9fd68d",
   "metadata": {},
   "outputs": [
    {
     "name": "stdout",
     "output_type": "stream",
     "text": [
      "sum of numbers:3\n"
     ]
    }
   ],
   "source": [
    "def add_numbers(*numbers):\n",
    "    # numbers is considerd as tuple\n",
    "    total = 0\n",
    "    for num in numbers:\n",
    "        total +=1\n",
    "    print(f\"sum of numbers:{total}\")\n",
    "        \n",
    "add_numbers(2,3,4)"
   ]
  },
  {
   "cell_type": "markdown",
   "id": "0d2e8104",
   "metadata": {},
   "source": [
    "## **kwargs (keyword variable arguments)"
   ]
  },
  {
   "cell_type": "markdown",
   "id": "597b6f0c",
   "metadata": {},
   "source": [
    "- ***kwargs* allows you to pass any **number of keyword arguments**.\n",
    "- Inside the function , *kwargs* is treated as a **dictionary**."
   ]
  },
  {
   "cell_type": "code",
   "execution_count": 22,
   "id": "be5ce4cb",
   "metadata": {},
   "outputs": [
    {
     "name": "stdout",
     "output_type": "stream",
     "text": [
      "Day : 16\n",
      "topics : args , kwargs\n"
     ]
    }
   ],
   "source": [
    "def show_info(**info):\n",
    "    for key , value in info.items():\n",
    "        print(f\"{key} : {value}\")\n",
    "show_info(Day = \"16\" , topics = \"args , kwargs\")"
   ]
  },
  {
   "cell_type": "code",
   "execution_count": 23,
   "id": "65737e69",
   "metadata": {},
   "outputs": [
    {
     "name": "stdout",
     "output_type": "stream",
     "text": [
      "Day : 15\n",
      "topics : Function in Python\n"
     ]
    }
   ],
   "source": [
    "show_info(Day = \"15\" , topics = \"Function in Python\")"
   ]
  },
  {
   "cell_type": "markdown",
   "id": "72c5454c",
   "metadata": {},
   "source": [
    "## combining "
   ]
  },
  {
   "cell_type": "markdown",
   "id": "4a96b4ec",
   "metadata": {},
   "source": [
    "**Order**\n",
    "|Argument Type|stored as|\n",
    "|-----------|-------------|\n",
    "|Positional|variable|\n",
    "|*args|Tuple|\n",
    "|default|variable|\n",
    "|**kwargs|dictionary|\n"
   ]
  },
  {
   "cell_type": "code",
   "execution_count": 24,
   "id": "26648666",
   "metadata": {},
   "outputs": [],
   "source": [
    "def cast_spell(spell_name , caster ,\n",
    "               *targets , wand = \"Holly Wand\"):\n",
    "    print(f\"{caster} casts {spell_name} using {wand}!\")\n",
    "    print(f\"Targets:{targets if targets else 'No target'}\")\n",
    "    print(f\"Wand used:{wand}\")\n"
   ]
  },
  {
   "cell_type": "code",
   "execution_count": 25,
   "id": "e8fecaf1",
   "metadata": {},
   "outputs": [
    {
     "name": "stdout",
     "output_type": "stream",
     "text": [
      "Harry casts Lumos using Holly Wand!\n",
      "Targets:No target\n",
      "Wand used:Holly Wand\n"
     ]
    }
   ],
   "source": [
    "cast_spell(\"Lumos\",\"Harry\")"
   ]
  },
  {
   "cell_type": "code",
   "execution_count": 29,
   "id": "704b2aa9",
   "metadata": {},
   "outputs": [
    {
     "name": "stdout",
     "output_type": "stream",
     "text": [
      "Hermione casts Explliarmus using Elder Wand!\n",
      "Targets:('Darco', 'Snap')\n",
      "Wand used:Elder Wand\n"
     ]
    }
   ],
   "source": [
    "cast_spell(\"Explliarmus\",\"Hermione\", \"Darco\",\"Snap\" , wand = \"Elder Wand\")"
   ]
  }
 ],
 "metadata": {
  "kernelspec": {
   "display_name": "Python 3",
   "language": "python",
   "name": "python3"
  },
  "language_info": {
   "codemirror_mode": {
    "name": "ipython",
    "version": 3
   },
   "file_extension": ".py",
   "mimetype": "text/x-python",
   "name": "python",
   "nbconvert_exporter": "python",
   "pygments_lexer": "ipython3",
   "version": "3.11.9"
  }
 },
 "nbformat": 4,
 "nbformat_minor": 5
}
