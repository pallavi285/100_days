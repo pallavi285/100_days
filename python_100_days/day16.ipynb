{
 "cells": [
  {
   "cell_type": "markdown",
   "id": "948e81b6",
   "metadata": {},
   "source": [
    "# Number gussing game in python"
   ]
  },
  {
   "cell_type": "markdown",
   "id": "8774d425",
   "metadata": {},
   "source": [
    "## functions\n",
    "- welcome() ----> Greet the player\n",
    "- get_user_guess() -----> input and validate user's guess\n",
    "- check_user() -----> compare guess with "
   ]
  }
 ],
 "metadata": {
  "language_info": {
   "name": "python"
  }
 },
 "nbformat": 4,
 "nbformat_minor": 5
}
