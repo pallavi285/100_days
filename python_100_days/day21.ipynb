{
 "cells": [
  {
   "cell_type": "markdown",
   "id": "37dcdfa9",
   "metadata": {},
   "source": [
    "# Scope "
   ]
  },
  {
   "cell_type": "markdown",
   "id": "67d3419a",
   "metadata": {},
   "source": [
    "**Scope** refers to the region or part of a programm where a variable is **recognized** and can be used."
   ]
  },
  {
   "cell_type": "markdown",
   "id": "82178340",
   "metadata": {},
   "source": [
    "***The LGEB rule:***      \n",
    "**(Little elephent Go big)**     \n",
    "\n",
    "Python looks for variable in this order:\n"
   ]
  },
  {
   "cell_type": "markdown",
   "id": "2904fdfd",
   "metadata": {},
   "source": [
    "|Scope|Meaning|Example|\n",
    "|-|-|-|\n",
    "|L|Local|Inside the current function|\n",
    "|E|Enclosing|Inside the outer function (if function are nested)|\n",
    "|G|Global|Defined at the top level of script|\n",
    "|B|Built-in|python own words or function , Predefined names like *len* , *sum,* etc.|"
   ]
  },
  {
   "cell_type": "code",
   "execution_count": 5,
   "id": "51d2bbcc",
   "metadata": {},
   "outputs": [
    {
     "name": "stdout",
     "output_type": "stream",
     "text": [
      "length of 'Magic' is : 5\n",
      "Local Local ron\n",
      "Enclosing: Enclosing Hermione\n",
      "Global: Global Harry\n"
     ]
    }
   ],
   "source": [
    "# Global Scope\n",
    "name = \"Global Harry\"\n",
    "\n",
    "def outer_function():\n",
    "    #Enclosing scope\n",
    "    name = \"Enclosing Hermione\"\n",
    "    \n",
    "    def inner_function():\n",
    "        #Local scope\n",
    "        name = \"Local ron\"\n",
    "        \n",
    "        #Built in scope\n",
    "        print(\"length of 'Magic' is :\" , len('Magic'))\n",
    "        \n",
    "        #Print variable from local scope\n",
    "        print(\"Local\",name)\n",
    "        \n",
    "    inner_function()\n",
    "    \n",
    "    #Print variable from enclosing scope\n",
    "    print(\"Enclosing:\",name)\n",
    "\n",
    "#call outer function\n",
    "outer_function()    \n",
    "\n",
    "print(\"Global:\",name)"
   ]
  }
 ],
 "metadata": {
  "kernelspec": {
   "display_name": "Python 3",
   "language": "python",
   "name": "python3"
  },
  "language_info": {
   "codemirror_mode": {
    "name": "ipython",
    "version": 3
   },
   "file_extension": ".py",
   "mimetype": "text/x-python",
   "name": "python",
   "nbconvert_exporter": "python",
   "pygments_lexer": "ipython3",
   "version": "3.11.9"
  }
 },
 "nbformat": 4,
 "nbformat_minor": 5
}
