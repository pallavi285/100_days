{
 "cells": [
  {
   "cell_type": "markdown",
   "id": "cebb639b",
   "metadata": {},
   "source": [
    "# Sets - Union , intersection ,difference"
   ]
  },
  {
   "cell_type": "markdown",
   "id": "986a6fa6",
   "metadata": {},
   "source": [
    "A **Set** is an unorderd collection of *unique elements*."
   ]
  },
  {
   "cell_type": "code",
   "execution_count": 2,
   "id": "5f145c0b",
   "metadata": {},
   "outputs": [],
   "source": [
    "A = {1,2,3,4}\n",
    "B = {3,4,5,6}"
   ]
  },
  {
   "cell_type": "markdown",
   "id": "305bafaf",
   "metadata": {},
   "source": [
    "## Union\n",
    "Combine two or more collections and remove duplicates.\n",
    "- Database / Contacts Merge : combine without repeating.\n",
    "- Student Records : Students who play **cricket** or **football**."
   ]
  },
  {
   "cell_type": "code",
   "execution_count": 5,
   "id": "b67a4c81",
   "metadata": {},
   "outputs": [
    {
     "name": "stdout",
     "output_type": "stream",
     "text": [
      "{'Alice', 'Charlie', 'Bob', 'David'}\n",
      "{'Alice', 'Charlie', 'Bob', 'David'}\n"
     ]
    }
   ],
   "source": [
    "contacts1 = {\"Alice\",\"Bob\",\"Charlie\"}\n",
    "contacts2 = {\"Charlie\",\"David\"}\n",
    "all_contact = contacts1 | contacts2\n",
    "all_contacts = contacts1.union(contacts2)\n",
    "print(all_contact)\n",
    "print(all_contacts)"
   ]
  },
  {
   "cell_type": "markdown",
   "id": "85c0ba24",
   "metadata": {},
   "source": [
    "## Intersection\n",
    "Find what is **common** between two groups.\n",
    "- Filtering dataset.\n",
    "- Finding shared words , keys ,or identifiers betweeen two files or dataset."
   ]
  },
  {
   "cell_type": "code",
   "execution_count": 7,
   "id": "81710956",
   "metadata": {},
   "outputs": [
    {
     "name": "stdout",
     "output_type": "stream",
     "text": [
      "{'Bob'}\n"
     ]
    }
   ],
   "source": [
    "buyers_amazone = {\"Alice\",\"Bob\",\"Charlie\"}\n",
    "buyers_filpkart = {\"Bob\",\"David\"}\n",
    "common_buyers = buyers_amazone & buyers_filpkart\n",
    "print(common_buyers)"
   ]
  },
  {
   "cell_type": "markdown",
   "id": "01bc5acd",
   "metadata": {},
   "source": [
    "|Operator Form|when your want short , elegent expression|\n",
    "|-|-|\n",
    "|**Method Form**|**readable clear code**|"
   ]
  },
  {
   "cell_type": "markdown",
   "id": "4f2a8159",
   "metadata": {},
   "source": [
    "|Operation|symbol|\n",
    "|---------|-------|\n",
    "|Union|pipe|\n",
    "|Intersection|&(ampersand)|\n",
    "|Difference|-(minus)|\n",
    "|Symmetric Difference|^(caret)|"
   ]
  }
 ],
 "metadata": {
  "kernelspec": {
   "display_name": "Python 3",
   "language": "python",
   "name": "python3"
  },
  "language_info": {
   "codemirror_mode": {
    "name": "ipython",
    "version": 3
   },
   "file_extension": ".py",
   "mimetype": "text/x-python",
   "name": "python",
   "nbconvert_exporter": "python",
   "pygments_lexer": "ipython3",
   "version": "3.11.9"
  }
 },
 "nbformat": 4,
 "nbformat_minor": 5
}
