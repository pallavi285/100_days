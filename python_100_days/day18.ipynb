{
 "cells": [
  {
   "cell_type": "markdown",
   "id": "f2049a90",
   "metadata": {},
   "source": [
    "# Recursion Basics"
   ]
  },
  {
   "cell_type": "markdown",
   "id": "eda0e299",
   "metadata": {},
   "source": [
    "Recursion is a programming technique where **a function calls itself** to solve smaller version of the same problem."
   ]
  },
  {
   "cell_type": "markdown",
   "id": "f286916f",
   "metadata": {},
   "source": [
    "|Term|Meaning|\n",
    "|-------|--------|\n",
    "|Base case|Condition to stop recursion|\n",
    "|Recursive case|Function Calling itself|\n",
    "|stack overflow|Happens if there's no base case or infinite recursion|\n",
    "|call stack|Memorey to to keep track of recursive calls|"
   ]
  },
  {
   "cell_type": "code",
   "execution_count": 6,
   "id": "0be63fc4",
   "metadata": {},
   "outputs": [
    {
     "name": "stdout",
     "output_type": "stream",
     "text": [
      "15\n"
     ]
    }
   ],
   "source": [
    "#Sum of n numbers\n",
    "def sum_n(n):\n",
    "    if n==0: # base case\n",
    "        return 0\n",
    "    return n + sum_n(n-1) #recusive case\n",
    "print(sum_n(5))"
   ]
  },
  {
   "cell_type": "code",
   "execution_count": 7,
   "id": "bf056e55",
   "metadata": {},
   "outputs": [
    {
     "name": "stdout",
     "output_type": "stream",
     "text": [
      "10\n",
      "9\n",
      "8\n",
      "7\n",
      "6\n",
      "5\n",
      "4\n",
      "3\n",
      "2\n",
      "1\n",
      "finish\n"
     ]
    }
   ],
   "source": [
    "#countdown\n",
    "def countdown(n):\n",
    "    if n==0:\n",
    "        print(\"finish\") #Base case\n",
    "    else:\n",
    "        print(n)\n",
    "        countdown(n-1) #Recursive calls\n",
    "countdown(10)"
   ]
  },
  {
   "cell_type": "code",
   "execution_count": 8,
   "id": "f033a06c",
   "metadata": {},
   "outputs": [
    {
     "name": "stdout",
     "output_type": "stream",
     "text": [
      "120\n"
     ]
    }
   ],
   "source": [
    "# Factorial\n",
    "def factorial(n):\n",
    "    if n==1:\n",
    "        return 1 #Base case\n",
    "    else:\n",
    "        return n*factorial(n-1) # Recursive case\n",
    "print(factorial(5))"
   ]
  }
 ],
 "metadata": {
  "kernelspec": {
   "display_name": "Python 3",
   "language": "python",
   "name": "python3"
  },
  "language_info": {
   "codemirror_mode": {
    "name": "ipython",
    "version": 3
   },
   "file_extension": ".py",
   "mimetype": "text/x-python",
   "name": "python",
   "nbconvert_exporter": "python",
   "pygments_lexer": "ipython3",
   "version": "3.11.9"
  }
 },
 "nbformat": 4,
 "nbformat_minor": 5
}
