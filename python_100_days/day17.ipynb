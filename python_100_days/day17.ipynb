{
 "cells": [
  {
   "cell_type": "markdown",
   "id": "03ee843a",
   "metadata": {},
   "source": [
    "## combining  Argument type"
   ]
  },
  {
   "cell_type": "markdown",
   "id": "bb22e310",
   "metadata": {},
   "source": [
    "**Order**\n",
    "|Argument Type|stored as|\n",
    "|-----------|-------------|\n",
    "|Positional|variable|\n",
    "|*args|Tuple|\n",
    "|default|variable|\n",
    "|**kwargs|dictionary|"
   ]
  },
  {
   "cell_type": "code",
   "execution_count": 1,
   "id": "9edbe1fb",
   "metadata": {},
   "outputs": [],
   "source": [
    "def cast_spell(spell_name , caster ,\n",
    "               *targets , wand = \"Holly Wand\"):\n",
    "    print(f\"{caster} casts {spell_name} using {wand}!\")\n",
    "    print(f\"Targets:{targets if targets else 'No target'}\")\n",
    "    print(f\"Wand used:{wand}\")"
   ]
  },
  {
   "cell_type": "code",
   "execution_count": 2,
   "id": "f0b5539f",
   "metadata": {},
   "outputs": [
    {
     "name": "stdout",
     "output_type": "stream",
     "text": [
      "Harry casts Lumos using Holly Wand!\n",
      "Targets:No target\n",
      "Wand used:Holly Wand\n"
     ]
    }
   ],
   "source": [
    "cast_spell(\"Lumos\",\"Harry\")"
   ]
  },
  {
   "cell_type": "code",
   "execution_count": 3,
   "id": "855179d3",
   "metadata": {},
   "outputs": [
    {
     "name": "stdout",
     "output_type": "stream",
     "text": [
      "Hermione casts Explliarmus using Elder Wand!\n",
      "Targets:('Darco', 'Snap')\n",
      "Wand used:Elder Wand\n"
     ]
    }
   ],
   "source": [
    "cast_spell(\"Explliarmus\",\"Hermione\", \"Darco\",\"Snap\" , wand = \"Elder Wand\")"
   ]
  }
 ],
 "metadata": {
  "kernelspec": {
   "display_name": "Python 3",
   "language": "python",
   "name": "python3"
  },
  "language_info": {
   "codemirror_mode": {
    "name": "ipython",
    "version": 3
   },
   "file_extension": ".py",
   "mimetype": "text/x-python",
   "name": "python",
   "nbconvert_exporter": "python",
   "pygments_lexer": "ipython3",
   "version": "3.11.9"
  }
 },
 "nbformat": 4,
 "nbformat_minor": 5
}
