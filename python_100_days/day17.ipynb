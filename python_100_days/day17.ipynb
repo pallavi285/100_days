{
 "cells": [
  {
   "cell_type": "markdown",
   "id": "cebb639b",
   "metadata": {},
   "source": [
    "# Sets - Union , intersection ,difference"
   ]
  },
  {
   "cell_type": "markdown",
   "id": "986a6fa6",
   "metadata": {},
   "source": [
    "A **Set** is an unorderd collection of *unique elements*."
   ]
  },
  {
   "cell_type": "code",
   "execution_count": 2,
   "id": "5f145c0b",
   "metadata": {},
   "outputs": [],
   "source": [
    "A = {1,2,3,4}\n",
    "B = {3,4,5,6}"
   ]
  },
  {
   "cell_type": "markdown",
   "id": "305bafaf",
   "metadata": {},
   "source": [
    "## Union\n",
    "Combine two or more collections and remove duplicates.\n",
    "- Database / Contacts Merge : combine without repeating.\n",
    "- Student Records : Students who play **cricket** or **football**."
   ]
  },
  {
   "cell_type": "code",
   "execution_count": 5,
   "id": "b67a4c81",
   "metadata": {},
   "outputs": [
    {
     "name": "stdout",
     "output_type": "stream",
     "text": [
      "{'Alice', 'Charlie', 'Bob', 'David'}\n",
      "{'Alice', 'Charlie', 'Bob', 'David'}\n"
     ]
    }
   ],
   "source": [
    "contacts1 = {\"Alice\",\"Bob\",\"Charlie\"}\n",
    "contacts2 = {\"Charlie\",\"David\"}\n",
    "all_contact = contacts1 | contacts2\n",
    "all_contacts = contacts1.union(contacts2)\n",
    "print(all_contact)\n",
    "print(all_contacts)"
   ]
  },
  {
   "cell_type": "markdown",
   "id": "85c0ba24",
   "metadata": {},
   "source": [
    "## Intersection\n",
    "Find what is **common** between two groups.\n",
    "- Filtering dataset.\n",
    "- Finding shared words , keys ,or identifiers betweeen two files or dataset."
   ]
  },
  {
   "cell_type": "code",
   "execution_count": 7,
   "id": "81710956",
   "metadata": {},
   "outputs": [
    {
     "name": "stdout",
     "output_type": "stream",
     "text": [
      "{'Bob'}\n"
     ]
    }
   ],
   "source": [
    "buyers_amazone = {\"Alice\",\"Bob\",\"Charlie\"}\n",
    "buyers_filpkart = {\"Bob\",\"David\"}\n",
    "common_buyers = buyers_amazone & buyers_filpkart\n",
    "print(common_buyers)"
   ]
  },
  {
   "cell_type": "markdown",
   "id": "672afdfe",
   "metadata": {},
   "source": [
    "## Difference\n",
    "Keeps elements in A that are **not in B**.\n",
    "- Email Marketing : Send an email only to new customers , not the one who already got it.\n",
    "- Student Records : Student who play cricket but not football.\n",
    "- File Management : Find files that exist in one folder but not another."
   ]
  },
  {
   "cell_type": "code",
   "execution_count": 10,
   "id": "b38d5bad",
   "metadata": {},
   "outputs": [
    {
     "name": "stdout",
     "output_type": "stream",
     "text": [
      "{'Charlie', 'Alice'}\n"
     ]
    }
   ],
   "source": [
    "all_users = {\"Alice\",\"Bob\",\"Charlie\"}\n",
    "sent_users = {\"Bob\"}\n",
    "to_send = all_users - sent_users\n",
    "print(to_send)"
   ]
  },
  {
   "cell_type": "markdown",
   "id": "751cb029",
   "metadata": {},
   "source": [
    "## Symmetric Difference\n",
    "*Finds **uncommon** elements between two sets.*\n",
    "- Data Synchronization : Find mismatched records between two systems.\n",
    "- Comparison : Check what's different between tow lists of features or version."
   ]
  },
  {
   "cell_type": "code",
   "execution_count": 12,
   "id": "4fbfc4dd",
   "metadata": {},
   "outputs": [
    {
     "name": "stdout",
     "output_type": "stream",
     "text": [
      "{'file4', 'file3', 'file1'}\n"
     ]
    }
   ],
   "source": [
    "server1 = {\"file1\",\"file2\",\"file3\"}\n",
    "server2 = {\"file2\",\"file4\"}\n",
    "\n",
    "diff_files = server1 ^ server2\n",
    "print(diff_files)"
   ]
  },
  {
   "cell_type": "markdown",
   "id": "76198854",
   "metadata": {},
   "source": [
    "|Operation|Meaning|symbol|\n",
    "|---------|-------|-------|\n",
    "|Union|All element from both the sets|pipe|\n",
    "|Intersection|Common Elements|&(ampersand)|\n",
    "|Difference|In A but not in B|-(minus)|\n",
    "|Symmetric Difference|Uncommon elements|^(caret)|"
   ]
  },
  {
   "cell_type": "markdown",
   "id": "01bc5acd",
   "metadata": {},
   "source": [
    "|Operator Form|when your want short , elegent expression|\n",
    "|-|-|\n",
    "|**Method Form**|**readable clear code**|"
   ]
  }
 ],
 "metadata": {
  "kernelspec": {
   "display_name": "Python 3",
   "language": "python",
   "name": "python3"
  },
  "language_info": {
   "codemirror_mode": {
    "name": "ipython",
    "version": 3
   },
   "file_extension": ".py",
   "mimetype": "text/x-python",
   "name": "python",
   "nbconvert_exporter": "python",
   "pygments_lexer": "ipython3",
   "version": "3.11.9"
  }
 },
 "nbformat": 4,
 "nbformat_minor": 5
}
