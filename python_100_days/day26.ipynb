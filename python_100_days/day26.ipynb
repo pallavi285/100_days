{
 "cells": [
  {
   "cell_type": "markdown",
   "id": "252ab516",
   "metadata": {},
   "source": [
    "# Abstraction"
   ]
  },
  {
   "cell_type": "markdown",
   "id": "02f79555",
   "metadata": {},
   "source": [
    "**Abstraction** means hiding complex implementation details and showing only essential features.     \n",
    "\n",
    "*It simplify usage and focuses on what an object does and not how it does.*"
   ]
  },
  {
   "cell_type": "markdown",
   "id": "24d9cdd0",
   "metadata": {},
   "source": [
    "Implement abstraction using abstraction class and methods via the *abc Module*.       \n"
   ]
  },
  {
   "cell_type": "code",
   "execution_count": 7,
   "id": "a8ff7cb4",
   "metadata": {},
   "outputs": [
    {
     "name": "stdout",
     "output_type": "stream",
     "text": [
      "78.5\n"
     ]
    }
   ],
   "source": [
    "from abc import abstractmethod , ABC\n",
    "class Shape(ABC):\n",
    "    @abstractmethod\n",
    "    def area(self):\n",
    "        pass\n",
    "    \n",
    "class Circle(Shape):\n",
    "    def __init__(self,radius):\n",
    "        self.radius = radius\n",
    "        \n",
    "    def area(self):\n",
    "        return 3.14 * self.radius ** 2\n",
    "    \n",
    "c =Circle(5)\n",
    "print(c.area())"
   ]
  },
  {
   "cell_type": "markdown",
   "id": "db493d27",
   "metadata": {},
   "source": [
    "## Question \n",
    "Create an abstract class ***Vehical*** with abstract method ***dirve()***"
   ]
  },
  {
   "cell_type": "code",
   "execution_count": 8,
   "id": "66e83460",
   "metadata": {},
   "outputs": [
    {
     "name": "stdout",
     "output_type": "stream",
     "text": [
      "The car is driving itself\n"
     ]
    }
   ],
   "source": [
    "from abc import ABC , abstractmethod\n",
    "class Vehicle(ABC):\n",
    "    @abstractmethod\n",
    "    def drive(self):\n",
    "        pass\n",
    "    \n",
    "class Car(Vehicle):\n",
    "    def drive(self):\n",
    "        print(\"The car is driving itself\")\n",
    "        \n",
    "c = Car()\n",
    "c.drive()"
   ]
  },
  {
   "cell_type": "markdown",
   "id": "56f8ced0",
   "metadata": {},
   "source": [
    "**Abstraction** = *Hide complexity , show only essentials*"
   ]
  }
 ],
 "metadata": {
  "kernelspec": {
   "display_name": "Python 3",
   "language": "python",
   "name": "python3"
  },
  "language_info": {
   "codemirror_mode": {
    "name": "ipython",
    "version": 3
   },
   "file_extension": ".py",
   "mimetype": "text/x-python",
   "name": "python",
   "nbconvert_exporter": "python",
   "pygments_lexer": "ipython3",
   "version": "3.11.9"
  }
 },
 "nbformat": 4,
 "nbformat_minor": 5
}
