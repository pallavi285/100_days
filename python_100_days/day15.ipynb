{
 "cells": [
  {
   "cell_type": "markdown",
   "id": "593c1f18",
   "metadata": {},
   "source": [
    "# Function in Python"
   ]
  },
  {
   "cell_type": "markdown",
   "id": "c6a96ecd",
   "metadata": {},
   "source": [
    "A **funtion** is a reusable block of code that perform a specific task."
   ]
  },
  {
   "cell_type": "markdown",
   "id": "fe7634da",
   "metadata": {},
   "source": [
    "## Simple Python function"
   ]
  },
  {
   "cell_type": "markdown",
   "id": "1705a04c",
   "metadata": {},
   "source": [
    "- **def** is a keyword used to define a function.\n",
    "- **function_name**  Name of the function\n",
    "- **Parameters** Values you can pass into the function (optional)\n",
    "- **result** Sents a result back"
   ]
  },
  {
   "cell_type": "code",
   "execution_count": 1,
   "id": "83999cf1",
   "metadata": {},
   "outputs": [],
   "source": [
    "def greet():\n",
    "    print('''Hello , Welcome to Day \n",
    "          15 of 100 Days\n",
    "          of code.''')"
   ]
  },
  {
   "cell_type": "markdown",
   "id": "4f4b29cb",
   "metadata": {},
   "source": [
    "## Call the function"
   ]
  },
  {
   "cell_type": "code",
   "execution_count": 2,
   "id": "b1a8472b",
   "metadata": {},
   "outputs": [
    {
     "name": "stdout",
     "output_type": "stream",
     "text": [
      "Hello , Welcome to Day \n",
      "          15 of 100 Days\n",
      "          of code.\n"
     ]
    }
   ],
   "source": [
    "greet()"
   ]
  },
  {
   "cell_type": "markdown",
   "id": "fe2520a5",
   "metadata": {},
   "source": [
    "## Function with parameter"
   ]
  },
  {
   "cell_type": "code",
   "execution_count": 3,
   "id": "07ea31ff",
   "metadata": {},
   "outputs": [],
   "source": [
    "def greet_user(name):\n",
    "    print(\"Hello\", name)"
   ]
  },
  {
   "cell_type": "code",
   "execution_count": 4,
   "id": "2a54d4f7",
   "metadata": {},
   "outputs": [
    {
     "name": "stdout",
     "output_type": "stream",
     "text": [
      "Hello Pallavi\n"
     ]
    }
   ],
   "source": [
    "greet_user(\"Pallavi\")"
   ]
  },
  {
   "cell_type": "markdown",
   "id": "860b1217",
   "metadata": {},
   "source": [
    "## Function with return "
   ]
  },
  {
   "cell_type": "code",
   "execution_count": null,
   "id": "e975de7e",
   "metadata": {},
   "outputs": [
    {
     "name": "stdout",
     "output_type": "stream",
     "text": [
      "8\n"
     ]
    }
   ],
   "source": [
    "def add(a,b):\n",
    "    return a+b\n",
    "result = add(5,3)\n",
    "print(result)"
   ]
  },
  {
   "cell_type": "markdown",
   "id": "8400097d",
   "metadata": {},
   "source": [
    "## Default Parameter"
   ]
  },
  {
   "cell_type": "code",
   "execution_count": null,
   "id": "e30bfe76",
   "metadata": {},
   "outputs": [
    {
     "name": "stdout",
     "output_type": "stream",
     "text": [
      "Hello Friend\n",
      "None\n"
     ]
    }
   ],
   "source": [
    "def greet(name = \"Friend\"):\n",
    "    print(\"Hello\",name)\n",
    "    \n",
    "print(greet())\n",
    "# Hello Friend\n",
    "# None \n",
    "# if no return statement \n",
    "# it will return **None**"
   ]
  }
 ],
 "metadata": {
  "kernelspec": {
   "display_name": "Python 3",
   "language": "python",
   "name": "python3"
  },
  "language_info": {
   "codemirror_mode": {
    "name": "ipython",
    "version": 3
   },
   "file_extension": ".py",
   "mimetype": "text/x-python",
   "name": "python",
   "nbconvert_exporter": "python",
   "pygments_lexer": "ipython3",
   "version": "3.11.9"
  }
 },
 "nbformat": 4,
 "nbformat_minor": 5
}
