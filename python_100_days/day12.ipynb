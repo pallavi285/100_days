{
 "cells": [
  {
   "cell_type": "markdown",
   "id": "ac5b2c3a",
   "metadata": {},
   "source": [
    "# **Conditional Statements**"
   ]
  },
  {
   "cell_type": "markdown",
   "id": "910ba908",
   "metadata": {},
   "source": [
    "## If Statement"
   ]
  },
  {
   "cell_type": "markdown",
   "id": "60e50f95",
   "metadata": {},
   "source": [
    "The if statement is used to check if a certain condition is true , and if so excute a specific block of code."
   ]
  },
  {
   "cell_type": "code",
   "execution_count": 2,
   "id": "a4027603",
   "metadata": {},
   "outputs": [
    {
     "name": "stdout",
     "output_type": "stream",
     "text": [
      "Positive\n"
     ]
    }
   ],
   "source": [
    "x = 12\n",
    "if x > 0 :\n",
    "    print(\"Positive\")\n"
   ]
  },
  {
   "cell_type": "markdown",
   "id": "298b5210",
   "metadata": {},
   "source": [
    "## if else statement"
   ]
  },
  {
   "cell_type": "markdown",
   "id": "b23c7f90",
   "metadata": {},
   "source": [
    "The if else statement is used to execute one block of code if condition is true , and another block if the condition is false."
   ]
  },
  {
   "cell_type": "markdown",
   "id": "cb58f617",
   "metadata": {},
   "source": [
    "### Fitness Step Goal\n",
    "Ask user how many steps they walked today .\n",
    "- if >=10,000 -----> print(\"Goal Achived 🎉 \")\n",
    "- Else ----> print(\"Keep Going 💪\")"
   ]
  },
  {
   "cell_type": "code",
   "execution_count": 23,
   "id": "8cecf459",
   "metadata": {},
   "outputs": [
    {
     "name": "stdout",
     "output_type": "stream",
     "text": [
      "Keep Going 💪\n"
     ]
    }
   ],
   "source": [
    "steps = 8000\n",
    "if steps >= 10000:\n",
    "    print(\"Goal Achived 🎉 \")\n",
    "else:\n",
    "    print(\"Keep Going 💪\")    "
   ]
  },
  {
   "cell_type": "markdown",
   "id": "92081085",
   "metadata": {},
   "source": [
    "## if elif else statement"
   ]
  },
  {
   "cell_type": "markdown",
   "id": "6f4170fd",
   "metadata": {},
   "source": [
    "The if elif else statement is used to check multiple conditions ,and execute a specific block of code based on which condition is true."
   ]
  },
  {
   "cell_type": "markdown",
   "id": "49042861",
   "metadata": {},
   "source": [
    "### write a python program that takes an integer(1-7) from the user and prints the day of the week."
   ]
  },
  {
   "cell_type": "code",
   "execution_count": 24,
   "id": "dc5b1f17",
   "metadata": {},
   "outputs": [
    {
     "name": "stdout",
     "output_type": "stream",
     "text": [
      "Monday 😀\n"
     ]
    }
   ],
   "source": [
    "day = 1\n",
    "if day == 1:\n",
    "    print(\"Monday 😀\")\n",
    "elif day == 2:\n",
    "    print(\"Tuesday\")\n",
    "elif day==3:\n",
    "    print(\"Wednesday\")\n",
    "elif day==4:\n",
    "    print(\"Thursday\")\n",
    "elif day==5:\n",
    "    print(\"Friday\")\n",
    "elif day==6:\n",
    "    print(\"Saturday\")\n",
    "elif day==7:\n",
    "    print(\"Sunday\")\n",
    "else:\n",
    "    print(\"Invalid day number\")"
   ]
  },
  {
   "cell_type": "markdown",
   "id": "6f149938",
   "metadata": {},
   "source": [
    "## nested if else statement"
   ]
  },
  {
   "cell_type": "markdown",
   "id": "29251315",
   "metadata": {},
   "source": [
    "The nested if else statement is used when we need to check a condition inside other condition."
   ]
  },
  {
   "cell_type": "code",
   "execution_count": 25,
   "id": "9d8587bc",
   "metadata": {},
   "outputs": [
    {
     "name": "stdout",
     "output_type": "stream",
     "text": [
      "You passed the exam.\n",
      "Grade:A😀\n"
     ]
    }
   ],
   "source": [
    "marks = 85\n",
    "if marks >= 50:\n",
    "    print(\"You passed the exam.\")\n",
    "    if marks >= 90:\n",
    "        print(\"Grade:A+🥳\")\n",
    "    elif marks >=75:\n",
    "        print(\"Grade:A😀\")\n",
    "    elif marks >=60:\n",
    "        print(\"Grade:B\")\n",
    "    else:\n",
    "        print(\"Grade:C\")\n",
    "else:\n",
    "    print(\"You failed the exam.\")"
   ]
  }
 ],
 "metadata": {
  "kernelspec": {
   "display_name": "Python 3",
   "language": "python",
   "name": "python3"
  },
  "language_info": {
   "codemirror_mode": {
    "name": "ipython",
    "version": 3
   },
   "file_extension": ".py",
   "mimetype": "text/x-python",
   "name": "python",
   "nbconvert_exporter": "python",
   "pygments_lexer": "ipython3",
   "version": "3.11.2"
  }
 },
 "nbformat": 4,
 "nbformat_minor": 5
}
