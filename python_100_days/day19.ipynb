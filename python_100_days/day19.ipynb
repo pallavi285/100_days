{
 "cells": [
  {
   "cell_type": "markdown",
   "id": "a61ea42c",
   "metadata": {},
   "source": [
    "# Scope and global variables"
   ]
  }
 ],
 "metadata": {
  "language_info": {
   "name": "python"
  }
 },
 "nbformat": 4,
 "nbformat_minor": 5
}
