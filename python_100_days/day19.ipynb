{
 "cells": [
  {
   "cell_type": "markdown",
   "id": "9c489963",
   "metadata": {},
   "source": [
    "## Difference\n",
    "Keeps elements in A that are **not in B**.\n",
    "- Email Marketing : Send an email only to new customers , not the one who already got it.\n",
    "- Student Records : Student who play cricket but not football.\n",
    "- File Management : Find files that exist in one folder but not another."
   ]
  },
  {
   "cell_type": "code",
   "execution_count": 2,
   "id": "3fd3f371",
   "metadata": {},
   "outputs": [
    {
     "name": "stdout",
     "output_type": "stream",
     "text": [
      "{'Alice', 'Charlie'}\n"
     ]
    }
   ],
   "source": [
    "all_users = {\"Alice\",\"Bob\",\"Charlie\"}\n",
    "sent_users = {\"Bob\"}\n",
    "to_send = all_users - sent_users\n",
    "print(to_send)"
   ]
  },
  {
   "cell_type": "markdown",
   "id": "ec927e8b",
   "metadata": {},
   "source": [
    "## Symmetric Difference\n",
    "*Finds **uncommon** elements between two sets.*\n",
    "- Data Synchronization : Find mismatched records between two systems.\n",
    "- Comparison : Check what's different between tow lists of features or version."
   ]
  },
  {
   "cell_type": "code",
   "execution_count": 3,
   "id": "c46d44c3",
   "metadata": {},
   "outputs": [
    {
     "name": "stdout",
     "output_type": "stream",
     "text": [
      "{'file4', 'file1', 'file3'}\n"
     ]
    }
   ],
   "source": [
    "server1 = {\"file1\",\"file2\",\"file3\"}\n",
    "server2 = {\"file2\",\"file4\"}\n",
    "\n",
    "diff_files = server1 ^ server2\n",
    "print(diff_files)"
   ]
  },
  {
   "cell_type": "markdown",
   "id": "32e0251f",
   "metadata": {},
   "source": [
    "|Operation|Meaning|symbol|\n",
    "|---------|-------|-------|\n",
    "|Union|All element from both the sets|pipe|\n",
    "|Intersection|Common Elements|&(ampersand)|\n",
    "|Difference|In A but not in B|-(minus)|\n",
    "|Symmetric Difference|Uncommon elements|^(caret)|"
   ]
  }
 ],
 "metadata": {
  "kernelspec": {
   "display_name": "Python 3",
   "language": "python",
   "name": "python3"
  },
  "language_info": {
   "codemirror_mode": {
    "name": "ipython",
    "version": 3
   },
   "file_extension": ".py",
   "mimetype": "text/x-python",
   "name": "python",
   "nbconvert_exporter": "python",
   "pygments_lexer": "ipython3",
   "version": "3.11.9"
  }
 },
 "nbformat": 4,
 "nbformat_minor": 5
}
