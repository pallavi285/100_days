{
 "cells": [
  {
   "cell_type": "markdown",
   "id": "8bbde22d",
   "metadata": {},
   "source": [
    "# Pattern question in python"
   ]
  },
  {
   "cell_type": "markdown",
   "id": "34f1b48b",
   "metadata": {},
   "source": [
    "## Basic concepts\n",
    "|Concepts|Description|\n",
    "|---|---|\n",
    "|Rows|The number of lines to be printed|\n",
    "|Columns|Element printed in each row|\n",
    "|Nested Loops|One loop inside other(used for row and column control)|\n",
    "|end=\"\"|Used to print in the same line|\n",
    "|print()|Moves to the next line|"
   ]
  },
  {
   "cell_type": "markdown",
   "id": "9778e6c2",
   "metadata": {},
   "source": [
    "# Star Patterns"
   ]
  },
  {
   "cell_type": "markdown",
   "id": "5d3a584f",
   "metadata": {},
   "source": [
    "## Write a Python programm to print the following pattern for n = 5:\n",
    "\n",
    "\n",
    "    * \n",
    "    * * \n",
    "    * * * \n",
    "    * * * * \n",
    "    * * * * *"
   ]
  },
  {
   "cell_type": "code",
   "execution_count": 1,
   "id": "ebfe1702",
   "metadata": {},
   "outputs": [
    {
     "name": "stdout",
     "output_type": "stream",
     "text": [
      "* \n",
      "* * \n",
      "* * * \n",
      "* * * * \n",
      "* * * * * \n"
     ]
    }
   ],
   "source": [
    "n = 5\n",
    "for i in range(1 , n+1):\n",
    "    print(\"* \"*i)"
   ]
  },
  {
   "cell_type": "markdown",
   "id": "cc306cbb",
   "metadata": {},
   "source": [
    "## Inverted Triangle"
   ]
  },
  {
   "cell_type": "code",
   "execution_count": 2,
   "id": "e158c233",
   "metadata": {},
   "outputs": [
    {
     "name": "stdout",
     "output_type": "stream",
     "text": [
      "* * * * * * \n",
      "* * * * * \n",
      "* * * * \n",
      "* * * \n",
      "* * \n",
      "* \n"
     ]
    }
   ],
   "source": [
    "n = 6\n",
    "for i in range(n ,0,-1):\n",
    "    print(\"* \"*i)"
   ]
  },
  {
   "cell_type": "markdown",
   "id": "710851ea",
   "metadata": {},
   "source": [
    "## Pyramid "
   ]
  },
  {
   "cell_type": "code",
   "execution_count": 3,
   "id": "4ed01265",
   "metadata": {},
   "outputs": [
    {
     "name": "stdout",
     "output_type": "stream",
     "text": [
      "     * \n",
      "    * * \n",
      "   * * * \n",
      "  * * * * \n",
      " * * * * * \n",
      "* * * * * * \n"
     ]
    }
   ],
   "source": [
    "n = 6\n",
    "for i in range(1 , n+1):\n",
    "    print(\" \"*(n-i) + \"* \"*i)"
   ]
  },
  {
   "cell_type": "markdown",
   "id": "bba2cf18",
   "metadata": {},
   "source": [
    "## Daimond"
   ]
  },
  {
   "cell_type": "code",
   "execution_count": 4,
   "id": "25f11eb3",
   "metadata": {},
   "outputs": [
    {
     "name": "stdout",
     "output_type": "stream",
     "text": [
      "     * \n",
      "    * * \n",
      "   * * * \n",
      "  * * * * \n",
      " * * * * * \n",
      "* * * * * * \n",
      " * * * * * \n",
      "  * * * * \n",
      "   * * * \n",
      "    * * \n",
      "     * \n"
     ]
    }
   ],
   "source": [
    "n = 6\n",
    "# Upper\n",
    "for i in range(1 , n+1):\n",
    "    print(\" \"*(n-i) + \"* \"*i)\n",
    "#Lower\n",
    "for i in range(n-1 ,0 ,-1):\n",
    "    print(\" \"*(n-i) + \"* \"*i)\n",
    "    "
   ]
  },
  {
   "cell_type": "markdown",
   "id": "6c109e73",
   "metadata": {},
   "source": [
    "# With number"
   ]
  },
  {
   "cell_type": "markdown",
   "id": "edeeab75",
   "metadata": {},
   "source": [
    "## Write a program to print the followin *number Pyramid* for n = 5:   \n",
    "    1\n",
    "    1 2\n",
    "    1 2 3\n",
    "    1 2 3 4\n",
    "    1 2 3 4 5"
   ]
  },
  {
   "cell_type": "code",
   "execution_count": 5,
   "id": "e84f104b",
   "metadata": {},
   "outputs": [
    {
     "name": "stdout",
     "output_type": "stream",
     "text": [
      "1 \n",
      "1 2 \n",
      "1 2 3 \n",
      "1 2 3 4 \n",
      "1 2 3 4 5 \n"
     ]
    }
   ],
   "source": [
    "n = 5\n",
    "for i in range(1 , n+1):\n",
    "    for j in range(1 , i+1):\n",
    "        print(j , end=\" \")\n",
    "    print()"
   ]
  },
  {
   "cell_type": "markdown",
   "id": "e3ea596a",
   "metadata": {},
   "source": [
    "## Repeated Numbers\n",
    "\n",
    "    1 \n",
    "    2 2 \n",
    "    3 3 3 \n",
    "    4 4 4 4 \n",
    "    5 5 5 5 5 \n",
    "    6 6 6 6 6 6 "
   ]
  },
  {
   "cell_type": "code",
   "execution_count": 6,
   "id": "f859b15d",
   "metadata": {},
   "outputs": [
    {
     "name": "stdout",
     "output_type": "stream",
     "text": [
      "1 \n",
      "2 2 \n",
      "3 3 3 \n",
      "4 4 4 4 \n",
      "5 5 5 5 5 \n",
      "6 6 6 6 6 6 \n"
     ]
    }
   ],
   "source": [
    "n = 6 \n",
    "# Outer loop → controls the number of rows (1 to n)\n",
    "for i in range(1 , n+1):\n",
    "    print((str(i)+\" \")*i)\n",
    "# Print the number 'i' repeated 'i' times, separated by space\n",
    "# (str(i) + \" \") creates something like \"1 \", \"2 \", \"3 \", etc.\n",
    "# Multiplying by 'i' repeats that string i times    "
   ]
  },
  {
   "cell_type": "markdown",
   "id": "06e31579",
   "metadata": {},
   "source": [
    "## Inverted  Number Triangle\n",
    "    1 2 3 4\n",
    "    1 2 3\n",
    "    1 2\n",
    "    1\n"
   ]
  },
  {
   "cell_type": "code",
   "execution_count": 7,
   "id": "ec3ec628",
   "metadata": {},
   "outputs": [
    {
     "name": "stdout",
     "output_type": "stream",
     "text": [
      "1 2 3 4 \n",
      "1 2 3 \n",
      "1 2 \n",
      "1 \n"
     ]
    }
   ],
   "source": [
    "n = 4\n",
    "for i in range(n , 0 , -1):# Outer loop → controls number of rows\n",
    "    for j in range(1, i+1): #Inner loop → prints numbers in each row\n",
    "        print(j , end = \" \")\n",
    "    print() # move next line after each row"
   ]
  }
 ],
 "metadata": {
  "kernelspec": {
   "display_name": "Python 3",
   "language": "python",
   "name": "python3"
  },
  "language_info": {
   "codemirror_mode": {
    "name": "ipython",
    "version": 3
   },
   "file_extension": ".py",
   "mimetype": "text/x-python",
   "name": "python",
   "nbconvert_exporter": "python",
   "pygments_lexer": "ipython3",
   "version": "3.11.9"
  }
 },
 "nbformat": 4,
 "nbformat_minor": 5
}
