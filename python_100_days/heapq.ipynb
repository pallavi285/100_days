{
 "cells": [
  {
   "cell_type": "markdown",
   "id": "dc0cacf5",
   "metadata": {},
   "source": [
    "# Heapq Module "
   ]
  },
  {
   "cell_type": "markdown",
   "id": "ee505f11",
   "metadata": {},
   "source": [
    "## Heap"
   ]
  },
  {
   "cell_type": "markdown",
   "id": "7c0e60c2",
   "metadata": {},
   "source": [
    "*Maintaining the **heap invariant** means always ensuring that the structure of the heap obeys its core rule:*\n",
    "\n",
    "- For a **min-heap**: every parent node’s value is less than or equal to the values of its children.\n",
    "\n",
    "- For a **max-heap**: every parent node’s value is greater than or equal to the values of its children."
   ]
  },
  {
   "cell_type": "markdown",
   "id": "a0dda9fc",
   "metadata": {},
   "source": [
    "Heap queue are also know as Priority queue "
   ]
  },
  {
   "cell_type": "markdown",
   "id": "0839326d",
   "metadata": {},
   "source": [
    "*IN an array :*\n",
    "-----------heap[2*k+2]<= heap[K]<= heap[2*k+1]----------------"
   ]
  },
  {
   "cell_type": "markdown",
   "id": "f9c4691c",
   "metadata": {},
   "source": [
    "*Heaps are useful for efficiently finding and removing the smallest element in a collection, making them essential in algorithms like Dijkstra’s or for implementing priority queues.*"
   ]
  },
  {
   "cell_type": "code",
   "execution_count": 2,
   "id": "aa90985c",
   "metadata": {},
   "outputs": [],
   "source": [
    "import heapq"
   ]
  },
  {
   "cell_type": "markdown",
   "id": "76e5f208",
   "metadata": {},
   "source": [
    "## Create heap"
   ]
  },
  {
   "cell_type": "markdown",
   "id": "47e174e2",
   "metadata": {},
   "source": [
    "To create a heap , use a list initialzed to [],   \n",
    "use **heapify()** to transform list to heap    \n",
    "**(In place , In linear time)**"
   ]
  },
  {
   "cell_type": "code",
   "execution_count": 3,
   "id": "6888daff",
   "metadata": {},
   "outputs": [
    {
     "name": "stdout",
     "output_type": "stream",
     "text": [
      "None\n"
     ]
    }
   ],
   "source": [
    "##### caution don't forget heap is in place ###\n",
    "x = [5,8,1,2,3]\n",
    "x_heap = heapq.heapify(x)\n",
    "print(x_heap) ## It will return None  "
   ]
  },
  {
   "cell_type": "code",
   "execution_count": 4,
   "id": "bca5f761",
   "metadata": {},
   "outputs": [
    {
     "name": "stdout",
     "output_type": "stream",
     "text": [
      "[1, 2, 5, 8, 3]\n"
     ]
    }
   ],
   "source": [
    "x = [5,8,1,2 , 3]\n",
    "heapq.heapify(x) # MIN-HEAP BY DEFAULT\n",
    "print(x) "
   ]
  },
  {
   "cell_type": "markdown",
   "id": "93bae8f0",
   "metadata": {},
   "source": [
    "Property:\n",
    "-  Smalles element always at root , heap[0]"
   ]
  },
  {
   "cell_type": "code",
   "execution_count": 5,
   "id": "fb289f71",
   "metadata": {},
   "outputs": [
    {
     "data": {
      "text/plain": [
       "1"
      ]
     },
     "execution_count": 5,
     "metadata": {},
     "output_type": "execute_result"
    }
   ],
   "source": [
    "x[0] ## this is the samllest \n"
   ]
  },
  {
   "cell_type": "markdown",
   "id": "b768aa82",
   "metadata": {},
   "source": [
    "## Functions"
   ]
  },
  {
   "cell_type": "markdown",
   "id": "1b17b98d",
   "metadata": {},
   "source": [
    "### heap.**heapush**(*heap , item*)"
   ]
  },
  {
   "cell_type": "markdown",
   "id": "588d473f",
   "metadata": {},
   "source": [
    "Push the value *item onto* the *heap* , maintaing the *heap invariant*."
   ]
  },
  {
   "cell_type": "code",
   "execution_count": 6,
   "id": "bd15f7a8",
   "metadata": {},
   "outputs": [
    {
     "data": {
      "text/plain": [
       "[1, 2, 5, 3, 4]"
      ]
     },
     "execution_count": 6,
     "metadata": {},
     "output_type": "execute_result"
    }
   ],
   "source": [
    "x = [4,2,5,3,1]\n",
    "heapq.heapify(x)\n",
    "x"
   ]
  },
  {
   "cell_type": "code",
   "execution_count": 7,
   "id": "569a4026",
   "metadata": {},
   "outputs": [
    {
     "data": {
      "text/plain": [
       "[1, 2, 5, 3, 4, 6]"
      ]
     },
     "execution_count": 7,
     "metadata": {},
     "output_type": "execute_result"
    }
   ],
   "source": [
    "heapq.heappush(x ,6)\n",
    "x"
   ]
  },
  {
   "cell_type": "markdown",
   "id": "334295fd",
   "metadata": {},
   "source": [
    "### heapq.**heappop**(*heap*)"
   ]
  },
  {
   "cell_type": "markdown",
   "id": "e37f448a",
   "metadata": {},
   "source": [
    "*Pop* and *return* the smallest item  from *heap*, maintaining  , mainitaining the *heap invriant*."
   ]
  },
  {
   "cell_type": "code",
   "execution_count": 8,
   "id": "88d600e0",
   "metadata": {},
   "outputs": [
    {
     "data": {
      "text/plain": [
       "[1, 2, 5, 3, 4, 6]"
      ]
     },
     "execution_count": 8,
     "metadata": {},
     "output_type": "execute_result"
    }
   ],
   "source": [
    "x = [4,2,5,3,1,6]\n",
    "heapq.heapify(x)\n",
    "x"
   ]
  },
  {
   "cell_type": "code",
   "execution_count": 9,
   "id": "82ce3191",
   "metadata": {},
   "outputs": [
    {
     "data": {
      "text/plain": [
       "1"
      ]
     },
     "execution_count": 9,
     "metadata": {},
     "output_type": "execute_result"
    }
   ],
   "source": [
    "small = heapq.heappop(x)\n",
    "small"
   ]
  },
  {
   "cell_type": "code",
   "execution_count": 10,
   "id": "5652a88b",
   "metadata": {},
   "outputs": [
    {
     "data": {
      "text/plain": [
       "[2, 3, 5, 6, 4]"
      ]
     },
     "execution_count": 10,
     "metadata": {},
     "output_type": "execute_result"
    }
   ],
   "source": [
    "x"
   ]
  },
  {
   "cell_type": "code",
   "execution_count": 11,
   "id": "c2afb0ce",
   "metadata": {},
   "outputs": [
    {
     "name": "stdout",
     "output_type": "stream",
     "text": [
      "2 3 4\n"
     ]
    }
   ],
   "source": [
    "small1 , small2 ,small3  = heapq.heappop(x),heapq.heappop(x),heapq.heappop(x)\n",
    "print(small1 , small2 ,small3)"
   ]
  },
  {
   "cell_type": "code",
   "execution_count": 12,
   "id": "cf406178",
   "metadata": {},
   "outputs": [],
   "source": [
    "heap =[] #when heap is empty\n",
    "#heapq.heappop(heap)  #(Index Error------> Index out of range)"
   ]
  },
  {
   "cell_type": "markdown",
   "id": "b5d7d87e",
   "metadata": {},
   "source": [
    "### heapq.**heappushpop**(*heap , item*)"
   ]
  },
  {
   "cell_type": "markdown",
   "id": "a486243f",
   "metadata": {},
   "source": [
    "*pop* and *return* the smallest item from the heap , also *push* the new *item*.    \n",
    "The heap *size* *does't* change."
   ]
  },
  {
   "cell_type": "markdown",
   "id": "044ddc42",
   "metadata": {},
   "source": [
    "*heappush() followed by heappop()*"
   ]
  },
  {
   "cell_type": "code",
   "execution_count": 13,
   "id": "4b87b8f0",
   "metadata": {},
   "outputs": [
    {
     "data": {
      "text/plain": [
       "[1, 2, 5, 4, 3]"
      ]
     },
     "execution_count": 13,
     "metadata": {},
     "output_type": "execute_result"
    }
   ],
   "source": [
    "x = [ 5,2,1,4,3]\n",
    "heapq.heapify(x)\n",
    "x"
   ]
  },
  {
   "cell_type": "code",
   "execution_count": 14,
   "id": "2f8836c2",
   "metadata": {},
   "outputs": [
    {
     "data": {
      "text/plain": [
       "[2, 3, 5, 4, 7]"
      ]
     },
     "execution_count": 14,
     "metadata": {},
     "output_type": "execute_result"
    }
   ],
   "source": [
    "heapq.heappushpop(x , 7)\n",
    "x"
   ]
  },
  {
   "cell_type": "markdown",
   "id": "742686e6",
   "metadata": {},
   "source": [
    "### heapq.**heapreplace**(*heap , item*)"
   ]
  },
  {
   "cell_type": "markdown",
   "id": "4ea4e9f8",
   "metadata": {},
   "source": [
    "*pop* and *return* the *smallest itme * from the *heap* and also *push* the *new item*."
   ]
  },
  {
   "cell_type": "markdown",
   "id": "a24d3a81",
   "metadata": {},
   "source": [
    "*heappop() followed by heappush()*"
   ]
  },
  {
   "cell_type": "code",
   "execution_count": 15,
   "id": "2150877e",
   "metadata": {},
   "outputs": [
    {
     "data": {
      "text/plain": [
       "[1, 2, 5, 4, 3]"
      ]
     },
     "execution_count": 15,
     "metadata": {},
     "output_type": "execute_result"
    }
   ],
   "source": [
    "x = [ 5,2,1,4,3]\n",
    "heapq.heapify(x)\n",
    "x"
   ]
  },
  {
   "cell_type": "code",
   "execution_count": 16,
   "id": "22c7854d",
   "metadata": {},
   "outputs": [
    {
     "data": {
      "text/plain": [
       "1"
      ]
     },
     "execution_count": 16,
     "metadata": {},
     "output_type": "execute_result"
    }
   ],
   "source": [
    "heapq.heapreplace(x , 6)"
   ]
  },
  {
   "cell_type": "code",
   "execution_count": 17,
   "id": "304cb523",
   "metadata": {},
   "outputs": [
    {
     "data": {
      "text/plain": [
       "[2, 3, 5, 4, 6]"
      ]
     },
     "execution_count": 17,
     "metadata": {},
     "output_type": "execute_result"
    }
   ],
   "source": [
    "x"
   ]
  }
 ],
 "metadata": {
  "kernelspec": {
   "display_name": "Python 3",
   "language": "python",
   "name": "python3"
  },
  "language_info": {
   "codemirror_mode": {
    "name": "ipython",
    "version": 3
   },
   "file_extension": ".py",
   "mimetype": "text/x-python",
   "name": "python",
   "nbconvert_exporter": "python",
   "pygments_lexer": "ipython3",
   "version": "3.11.2"
  }
 },
 "nbformat": 4,
 "nbformat_minor": 5
}
