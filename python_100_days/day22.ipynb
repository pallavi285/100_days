{
 "cells": [
  {
   "cell_type": "markdown",
   "id": "8a63b71b",
   "metadata": {},
   "source": [
    "# Local and Global"
   ]
  },
  {
   "cell_type": "markdown",
   "id": "13276df7",
   "metadata": {},
   "source": [
    "You can read a global variable inside a function.    \n",
    "But if you want to change it , you must use the keyword **global**."
   ]
  },
  {
   "cell_type": "code",
   "execution_count": 3,
   "id": "2ef1626d",
   "metadata": {},
   "outputs": [
    {
     "name": "stdout",
     "output_type": "stream",
     "text": [
      "inside function: 15\n",
      "outside function: 15\n"
     ]
    }
   ],
   "source": [
    "count = 10 #global variable\n",
    "\n",
    "def increase():\n",
    "    global count #tells python to use global \"count\"\n",
    "    count+=5\n",
    "    print(\"inside function:\", count)\n",
    "\n",
    "increase()\n",
    "print(\"outside function:\",count)\n",
    "\n",
    "#Using global allows you to modify the global variable"
   ]
  },
  {
   "cell_type": "markdown",
   "id": "82037f37",
   "metadata": {},
   "source": [
    "## Without *global* keyword\n",
    "if you don't use **global** , python will create a new local variable insted of changing the global one."
   ]
  },
  {
   "cell_type": "markdown",
   "id": "52a401a6",
   "metadata": {},
   "source": [
    "***Why Error?***\n",
    "      \n",
    "      \n",
    "Because Python thinks *count* inside the function is a *new local variable* but you tried to use it befor giving it a value."
   ]
  },
  {
   "cell_type": "code",
   "execution_count": 4,
   "id": "4a46eb05",
   "metadata": {},
   "outputs": [
    {
     "ename": "UnboundLocalError",
     "evalue": "cannot access local variable 'count' where it is not associated with a value",
     "output_type": "error",
     "traceback": [
      "\u001b[31m---------------------------------------------------------------------------\u001b[39m",
      "\u001b[31mUnboundLocalError\u001b[39m                         Traceback (most recent call last)",
      "\u001b[36mCell\u001b[39m\u001b[36m \u001b[39m\u001b[32mIn[4]\u001b[39m\u001b[32m, line 7\u001b[39m\n\u001b[32m      5\u001b[39m     count = count + \u001b[32m5\u001b[39m\n\u001b[32m      6\u001b[39m     \u001b[38;5;28mprint\u001b[39m(count)\n\u001b[32m----> \u001b[39m\u001b[32m7\u001b[39m \u001b[43mincrease\u001b[49m\u001b[43m(\u001b[49m\u001b[43m)\u001b[49m\n\u001b[32m      8\u001b[39m \u001b[38;5;66;03m#UnboundLocalError  \u001b[39;00m\n",
      "\u001b[36mCell\u001b[39m\u001b[36m \u001b[39m\u001b[32mIn[4]\u001b[39m\u001b[32m, line 5\u001b[39m, in \u001b[36mincrease\u001b[39m\u001b[34m()\u001b[39m\n\u001b[32m      3\u001b[39m \u001b[38;5;28;01mdef\u001b[39;00m\u001b[38;5;250m \u001b[39m\u001b[34mincrease\u001b[39m():\n\u001b[32m----> \u001b[39m\u001b[32m5\u001b[39m     count = \u001b[43mcount\u001b[49m + \u001b[32m5\u001b[39m\n\u001b[32m      6\u001b[39m     \u001b[38;5;28mprint\u001b[39m(count)\n",
      "\u001b[31mUnboundLocalError\u001b[39m: cannot access local variable 'count' where it is not associated with a value"
     ]
    }
   ],
   "source": [
    "count = 10\n",
    "\n",
    "def increase():\n",
    "    \n",
    "    count = count + 5\n",
    "    print(count)\n",
    "increase()\n",
    "#UnboundLocalError  "
   ]
  }
 ],
 "metadata": {
  "kernelspec": {
   "display_name": "Python 3",
   "language": "python",
   "name": "python3"
  },
  "language_info": {
   "codemirror_mode": {
    "name": "ipython",
    "version": 3
   },
   "file_extension": ".py",
   "mimetype": "text/x-python",
   "name": "python",
   "nbconvert_exporter": "python",
   "pygments_lexer": "ipython3",
   "version": "3.11.9"
  }
 },
 "nbformat": 4,
 "nbformat_minor": 5
}
