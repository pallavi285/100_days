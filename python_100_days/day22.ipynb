{
 "cells": [
  {
   "cell_type": "markdown",
   "id": "8a63b71b",
   "metadata": {},
   "source": [
    "# Local and Global"
   ]
  }
 ],
 "metadata": {
  "language_info": {
   "name": "python"
  }
 },
 "nbformat": 4,
 "nbformat_minor": 5
}
