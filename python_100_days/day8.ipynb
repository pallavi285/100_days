{
 "cells": [
  {
   "cell_type": "markdown",
   "id": "6b04a698",
   "metadata": {},
   "source": [
    "# String basics and indexing\n"
   ]
  },
  {
   "cell_type": "markdown",
   "id": "0ce904be",
   "metadata": {},
   "source": [
    "Strings are *immutable sequances* of *Unicode code points.*"
   ]
  },
  {
   "cell_type": "markdown",
   "id": "e6ef60b4",
   "metadata": {},
   "source": [
    "**Immutable**----> *cannot be changed after creation*\n",
    "**Unicode**----->*Universal character encoding standard*   \n",
    "    \n",
    "    \n",
    "**Unicode code Points**----> is just the uniqe number (like an ID) assigned to each character in Unicode.\n",
    "- A 65\n",
    "- 😊  128522\n"
   ]
  },
  {
   "cell_type": "markdown",
   "id": "c5c3649e",
   "metadata": {},
   "source": [
    "*String literals are written in a variety of ways*:"
   ]
  },
  {
   "cell_type": "markdown",
   "id": "53163bf8",
   "metadata": {},
   "source": [
    "-  *Single quotes* : 'allows embedded \"double\" qotes'"
   ]
  },
  {
   "cell_type": "code",
   "execution_count": 1,
   "id": "06327d42",
   "metadata": {},
   "outputs": [
    {
     "name": "stdout",
     "output_type": "stream",
     "text": [
      "\"pallavi unuri\"\n",
      "\"Data Science\"\n"
     ]
    }
   ],
   "source": [
    "name = '\"pallavi unuri\"'\n",
    "print(name)\n",
    "niche = '\"Data Science\"'\n",
    "print(niche)"
   ]
  },
  {
   "cell_type": "markdown",
   "id": "e4cade11",
   "metadata": {},
   "source": [
    "-  *Double quotes*: \"allow embedded 'single' quotes\""
   ]
  },
  {
   "cell_type": "code",
   "execution_count": 2,
   "id": "c68b2233",
   "metadata": {},
   "outputs": [
    {
     "name": "stdout",
     "output_type": "stream",
     "text": [
      "'pallavi unuri'\n",
      "'Data Science'\n"
     ]
    }
   ],
   "source": [
    "name = \"'pallavi unuri'\"\n",
    "print(name)\n",
    "niche = \"'Data Science'\"\n",
    "print(niche)"
   ]
  },
  {
   "cell_type": "markdown",
   "id": "f0083ec2",
   "metadata": {},
   "source": [
    "-   *Triple quoted*:'''Three single quotes''' , \"\"\"Three double quotes\"\"\"."
   ]
  },
  {
   "cell_type": "markdown",
   "id": "2406147d",
   "metadata": {},
   "source": [
    "## **str**(*object*)"
   ]
  },
  {
   "cell_type": "markdown",
   "id": "f87a4743",
   "metadata": {},
   "source": [
    "*Return a **string** version of object.*"
   ]
  },
  {
   "cell_type": "code",
   "execution_count": 3,
   "id": "e350c3be",
   "metadata": {},
   "outputs": [
    {
     "data": {
      "text/plain": [
       "'65'"
      ]
     },
     "execution_count": 3,
     "metadata": {},
     "output_type": "execute_result"
    }
   ],
   "source": [
    "str(65)"
   ]
  },
  {
   "cell_type": "code",
   "execution_count": 4,
   "id": "1a30df31",
   "metadata": {},
   "outputs": [
    {
     "data": {
      "text/plain": [
       "'python'"
      ]
     },
     "execution_count": 4,
     "metadata": {},
     "output_type": "execute_result"
    }
   ],
   "source": [
    "str(\"python\")"
   ]
  },
  {
   "cell_type": "markdown",
   "id": "23440a18",
   "metadata": {},
   "source": [
    "str(bytes , encoding , errors)"
   ]
  },
  {
   "cell_type": "code",
   "execution_count": 5,
   "id": "f5e0c125",
   "metadata": {},
   "outputs": [
    {
     "name": "stdout",
     "output_type": "stream",
     "text": [
      "Hello world ��\n"
     ]
    }
   ],
   "source": [
    "bd = b'Hello world \\x80\\x81'\n",
    "t = str(bd, encoding='utf-8', errors='replace')\n",
    "print(t)\n",
    "# Output: Hello world ��\n"
   ]
  },
  {
   "cell_type": "markdown",
   "id": "b7e87d7a",
   "metadata": {},
   "source": [
    "## String Indexing"
   ]
  },
  {
   "cell_type": "markdown",
   "id": "a65de55b",
   "metadata": {},
   "source": [
    "### The **index()** *find the first occurance of specific value*."
   ]
  },
  {
   "cell_type": "markdown",
   "id": "9a1b3384",
   "metadata": {},
   "source": [
    "*string*.**index**(*value , start , end*)"
   ]
  },
  {
   "cell_type": "code",
   "execution_count": 6,
   "id": "94fb68e8",
   "metadata": {},
   "outputs": [
    {
     "name": "stdout",
     "output_type": "stream",
     "text": [
      "6\n",
      "7\n"
     ]
    }
   ],
   "source": [
    "txt = \"Today is Day8.\"\n",
    "x = txt.index(\"is\")\n",
    "print(x) #6\n",
    "y = txt.index('s')\n",
    "print(y) #7\n"
   ]
  },
  {
   "cell_type": "code",
   "execution_count": 7,
   "id": "49ed78f5",
   "metadata": {},
   "outputs": [
    {
     "name": "stdout",
     "output_type": "stream",
     "text": [
      "14\n",
      "6\n",
      "3\n",
      "9\n"
     ]
    }
   ],
   "source": [
    "text = \"abcdefabcdefgh\"\n",
    "\n",
    "print(len(text)) #14\n",
    "\n",
    "print(text.find(\"a\",6)) #(text.find(value , start))\n",
    "print(text.index(\"d\", 0, 6)) #3\n",
    "print(text.index(\"d\", 6)) #9"
   ]
  },
  {
   "cell_type": "markdown",
   "id": "357ca5a5",
   "metadata": {},
   "source": [
    "**Difference between find() and index()**\n",
    "- find() is *safe*  (return -1) if not found\n",
    "- index() is *strict* (throws an error if not found)"
   ]
  },
  {
   "cell_type": "markdown",
   "id": "8de04a8d",
   "metadata": {},
   "source": [
    "### Basic Indexing"
   ]
  },
  {
   "cell_type": "code",
   "execution_count": 8,
   "id": "1e2abaf9",
   "metadata": {},
   "outputs": [
    {
     "name": "stdout",
     "output_type": "stream",
     "text": [
      "D\n",
      "A\n",
      "8\n",
      "Y\n"
     ]
    }
   ],
   "source": [
    "s = \"DAY8\"\n",
    "print(s[0]) #D\n",
    "print(s[1]) #A\n",
    "\n",
    "print(s[-1]) #8\n",
    "print(s[-2]) #Y\n",
    "\n"
   ]
  },
  {
   "cell_type": "markdown",
   "id": "7c23e315",
   "metadata": {},
   "source": [
    "### Slicing with indexes"
   ]
  },
  {
   "cell_type": "markdown",
   "id": "8cb7908e",
   "metadata": {},
   "source": [
    "[start : end : step]"
   ]
  },
  {
   "cell_type": "code",
   "execution_count": 9,
   "id": "fa7ec995",
   "metadata": {},
   "outputs": [
    {
     "name": "stdout",
     "output_type": "stream",
     "text": [
      "GGRAM\n",
      "GNIMMARGGORP\n"
     ]
    }
   ],
   "source": [
    "s = 'PROGGRAMMING'\n",
    "\n",
    "print(s[3:8]) #GRAMM\n",
    "print(s[::-1]) #GNIMMARGGORP\n"
   ]
  },
  {
   "cell_type": "code",
   "execution_count": 10,
   "id": "92e32f94",
   "metadata": {},
   "outputs": [],
   "source": [
    "S = 'day8'\n",
    "# S[10] # index error XXXXX # index out of range"
   ]
  }
 ],
 "metadata": {
  "kernelspec": {
   "display_name": "Python 3",
   "language": "python",
   "name": "python3"
  },
  "language_info": {
   "codemirror_mode": {
    "name": "ipython",
    "version": 3
   },
   "file_extension": ".py",
   "mimetype": "text/x-python",
   "name": "python",
   "nbconvert_exporter": "python",
   "pygments_lexer": "ipython3",
   "version": "3.11.9"
  }
 },
 "nbformat": 4,
 "nbformat_minor": 5
}
