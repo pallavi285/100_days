{
 "cells": [
  {
   "cell_type": "markdown",
   "id": "36b385a0",
   "metadata": {},
   "source": [
    "# String Method"
   ]
  },
  {
   "cell_type": "markdown",
   "id": "4fd27d34",
   "metadata": {},
   "source": [
    "*Strings are **immutable** ----> methods never change the original string , they return a **new one**.*"
   ]
  },
  {
   "cell_type": "markdown",
   "id": "6691cb4f",
   "metadata": {},
   "source": [
    "**What are string methods?**\n",
    "- *Built-in function you can call on string using dot notion.*"
   ]
  },
  {
   "cell_type": "markdown",
   "id": "072ca583",
   "metadata": {},
   "source": [
    "## Case Conversion "
   ]
  },
  {
   "cell_type": "code",
   "execution_count": null,
   "id": "743c8318",
   "metadata": {},
   "outputs": [
    {
     "name": "stdout",
     "output_type": "stream",
     "text": [
      "DAY9 STRING METHOD\n"
     ]
    }
   ],
   "source": [
    "s = \"Day9 String Method\"\n",
    "print(s.upper()) \n",
    "#DAY9 STRING METHOD"
   ]
  },
  {
   "cell_type": "code",
   "execution_count": null,
   "id": "6e2d853e",
   "metadata": {},
   "outputs": [
    {
     "name": "stdout",
     "output_type": "stream",
     "text": [
      "Day9 String Method\n",
      "day9 string method\n",
      "Day9 String Method\n"
     ]
    }
   ],
   "source": [
    "s = \"Day9 String Method\" \n",
    "print(s)\n",
    "print(s.lower()) \n",
    "#day9 string method\n",
    "print(s)\n",
    "#no change in original string "
   ]
  },
  {
   "cell_type": "code",
   "execution_count": 6,
   "id": "eb6e7a62",
   "metadata": {},
   "outputs": [
    {
     "name": "stdout",
     "output_type": "stream",
     "text": [
      "Day9 String Method\n"
     ]
    }
   ],
   "source": [
    "s = \"Day9 String Method\" \n",
    "print(s.title())"
   ]
  },
  {
   "cell_type": "code",
   "execution_count": 7,
   "id": "1a267508",
   "metadata": {},
   "outputs": [
    {
     "name": "stdout",
     "output_type": "stream",
     "text": [
      "Day9 string method\n"
     ]
    }
   ],
   "source": [
    "s = \"Day9 String Method\" \n",
    "print(s.capitalize())"
   ]
  },
  {
   "cell_type": "code",
   "execution_count": 8,
   "id": "a833ed60",
   "metadata": {},
   "outputs": [
    {
     "name": "stdout",
     "output_type": "stream",
     "text": [
      "dAY9 sTRING mETHOD\n"
     ]
    }
   ],
   "source": [
    "s = \"Day9 String Method\" \n",
    "print(s.swapcase())"
   ]
  },
  {
   "cell_type": "markdown",
   "id": "ab3309fd",
   "metadata": {},
   "source": [
    "## Check Types (Return True / False)"
   ]
  },
  {
   "cell_type": "code",
   "execution_count": 14,
   "id": "e69f8d17",
   "metadata": {},
   "outputs": [
    {
     "name": "stdout",
     "output_type": "stream",
     "text": [
      "False\n"
     ]
    }
   ],
   "source": [
    "s = \"Day9stringmethod\"\n",
    "#contain only alphabet return true\n",
    "print(s.isalpha()) "
   ]
  },
  {
   "cell_type": "code",
   "execution_count": 15,
   "id": "9cc9836c",
   "metadata": {},
   "outputs": [
    {
     "name": "stdout",
     "output_type": "stream",
     "text": [
      "False\n"
     ]
    }
   ],
   "source": [
    "s = \"Day9stringmethod\"\n",
    "#contain onlydigit return true\n",
    "print(s.isdigit()) "
   ]
  },
  {
   "cell_type": "code",
   "execution_count": 16,
   "id": "4de2d110",
   "metadata": {},
   "outputs": [
    {
     "name": "stdout",
     "output_type": "stream",
     "text": [
      "True\n"
     ]
    }
   ],
   "source": [
    "s = \"Day9stringmethod\"\n",
    "#contain  alphabet  and digit return true\n",
    "print(s.isalnum()) "
   ]
  },
  {
   "cell_type": "code",
   "execution_count": 17,
   "id": "9f3f79a4",
   "metadata": {},
   "outputs": [
    {
     "name": "stdout",
     "output_type": "stream",
     "text": [
      "False\n"
     ]
    }
   ],
   "source": [
    "s = \"Day9stringmethod\"\n",
    "print(s.islower())"
   ]
  },
  {
   "cell_type": "code",
   "execution_count": 18,
   "id": "06b7705d",
   "metadata": {},
   "outputs": [
    {
     "name": "stdout",
     "output_type": "stream",
     "text": [
      "False\n"
     ]
    }
   ],
   "source": [
    "s = \"Day9stringmethod\"\n",
    "print(s.isupper())"
   ]
  },
  {
   "cell_type": "markdown",
   "id": "e9ea31ff",
   "metadata": {},
   "source": [
    "### str.**isspace**()"
   ]
  },
  {
   "cell_type": "markdown",
   "id": "ad6e9496",
   "metadata": {},
   "source": [
    "Return **True** if there are only *whitesapce charaters* in the string and there is atleast one character,**False** otherwise."
   ]
  },
  {
   "cell_type": "code",
   "execution_count": 24,
   "id": "20a6074d",
   "metadata": {},
   "outputs": [
    {
     "name": "stdout",
     "output_type": "stream",
     "text": [
      "False\n"
     ]
    }
   ],
   "source": [
    "s = \"Day9stringmethod\"\n",
    "print(s.isspace())"
   ]
  },
  {
   "cell_type": "code",
   "execution_count": 30,
   "id": "7a909e4f",
   "metadata": {},
   "outputs": [
    {
     "name": "stdout",
     "output_type": "stream",
     "text": [
      "True\n",
      "True\n",
      "False\n"
     ]
    }
   ],
   "source": [
    "s = \"\\n\"\n",
    "v = \" \"\n",
    "j = \"  a\"\n",
    "print(s.isspace())\n",
    "print(v.isspace())\n",
    "print(j.isspace())"
   ]
  }
 ],
 "metadata": {
  "kernelspec": {
   "display_name": "Python 3",
   "language": "python",
   "name": "python3"
  },
  "language_info": {
   "codemirror_mode": {
    "name": "ipython",
    "version": 3
   },
   "file_extension": ".py",
   "mimetype": "text/x-python",
   "name": "python",
   "nbconvert_exporter": "python",
   "pygments_lexer": "ipython3",
   "version": "3.11.2"
  }
 },
 "nbformat": 4,
 "nbformat_minor": 5
}
