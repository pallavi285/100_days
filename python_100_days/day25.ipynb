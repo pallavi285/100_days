{
 "cells": [
  {
   "cell_type": "markdown",
   "id": "bb2c11e5",
   "metadata": {},
   "source": [
    "|Concept|Meaning|Example|\n",
    "|-----|----|-----|\n",
    "|Encapsulation|Protect Object data||\n",
    "|Inheritance|Child class uses parent features||\n",
    "|Polymorphism|Same method , different behaviour||\n",
    "|Abstraction|Hide complexity||\n"
   ]
  }
 ],
 "metadata": {
  "language_info": {
   "name": "python"
  }
 },
 "nbformat": 4,
 "nbformat_minor": 5
}
