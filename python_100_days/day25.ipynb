{
 "cells": [
  {
   "cell_type": "markdown",
   "id": "b84b9a32",
   "metadata": {},
   "source": [
    "## Encapsulation"
   ]
  },
  {
   "cell_type": "markdown",
   "id": "1c8d6183",
   "metadata": {},
   "source": [
    "**Encapsulation** is the practice of hiding internal object details and exposing only necessary parts.      \n",
    "It protects the data by restricting direct access and allows controlled interaction through method."
   ]
  },
  {
   "cell_type": "markdown",
   "id": "41f8c8e0",
   "metadata": {},
   "source": [
    "*What __(double underscore ) mean?*      \n",
    "\n",
    "It makes an attribute private by ***name mangling***. It can't be accessed directly from the outside class.   \n"
   ]
  },
  {
   "cell_type": "code",
   "execution_count": 5,
   "id": "5bb6ea9f",
   "metadata": {},
   "outputs": [
    {
     "name": "stdout",
     "output_type": "stream",
     "text": [
      "1500\n"
     ]
    }
   ],
   "source": [
    "class BankAccount:\n",
    "    def __init__(self ,balance):\n",
    "        self.__balance = balance #private attribute\n",
    "        \n",
    "    def deposit(self,amount):\n",
    "        self.__balance += amount\n",
    "    \n",
    "    def get_balance(self):\n",
    "        return self.__balance\n",
    "\n",
    "acc = BankAccount(1000)\n",
    "acc.deposit(500)\n",
    "print(acc.get_balance())"
   ]
  },
  {
   "cell_type": "markdown",
   "id": "bb2c11e5",
   "metadata": {},
   "source": [
    "|Concept|Meaning|Example|\n",
    "|-----|----|-----|\n",
    "|Encapsulation|Protect Object data||\n",
    "|Inheritance|Child class uses parent features||\n",
    "|Polymorphism|Same method , different behaviour||\n",
    "|Abstraction|Hide complexity||\n"
   ]
  }
 ],
 "metadata": {
  "kernelspec": {
   "display_name": "Python 3",
   "language": "python",
   "name": "python3"
  },
  "language_info": {
   "codemirror_mode": {
    "name": "ipython",
    "version": 3
   },
   "file_extension": ".py",
   "mimetype": "text/x-python",
   "name": "python",
   "nbconvert_exporter": "python",
   "pygments_lexer": "ipython3",
   "version": "3.11.9"
  }
 },
 "nbformat": 4,
 "nbformat_minor": 5
}
