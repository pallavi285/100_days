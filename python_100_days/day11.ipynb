{
 "cells": [
  {
   "cell_type": "markdown",
   "id": "63c42a1c",
   "metadata": {},
   "source": [
    "# Formatted String Literals (f-strings)"
   ]
  },
  {
   "cell_type": "markdown",
   "id": "982dffaa",
   "metadata": {},
   "source": [
    "***Clean and easier to read***"
   ]
  },
  {
   "cell_type": "markdown",
   "id": "7a725dbb",
   "metadata": {},
   "source": [
    "This type of string literal allows *embedding arbitarary Python expression* within the *replacement fields*, wich are *delimited* by **curly brackets(*{}*)**.\n",
    "- **delimited** ---> Having fixed bounderies\n",
    "- **replacement fields** --->replacement fields are placeholders used within strings to dynamically insert values. They are commonly used with the str.format() method or f-strings (formatted string literals)"
   ]
  },
  {
   "cell_type": "code",
   "execution_count": 11,
   "id": "2a514da6",
   "metadata": {},
   "outputs": [
    {
     "data": {
      "text/plain": [
       "'Todey is day 11 . \\nWe will study about String formatting.'"
      ]
     },
     "execution_count": 11,
     "metadata": {},
     "output_type": "execute_result"
    }
   ],
   "source": [
    "Day = '11'\n",
    "topic = 'String formatting'\n",
    "f'''Todey is day {Day} . \n",
    "We will study about {topic}.'''"
   ]
  },
  {
   "cell_type": "code",
   "execution_count": 12,
   "id": "4334d1b8",
   "metadata": {},
   "outputs": [
    {
     "data": {
      "text/plain": [
       "' This \\n is multi \\n line \\n f-string '"
      ]
     },
     "execution_count": 12,
     "metadata": {},
     "output_type": "execute_result"
    }
   ],
   "source": [
    "#multiline f-string\n",
    "f''' This \n",
    " is multi \n",
    " line \n",
    " f-string '''"
   ]
  },
  {
   "cell_type": "code",
   "execution_count": 13,
   "id": "7c9f9d29",
   "metadata": {},
   "outputs": [
    {
     "name": "stdout",
     "output_type": "stream",
     "text": [
      "age=19\n"
     ]
    }
   ],
   "source": [
    "age = 19\n",
    "print(f'{age=}')"
   ]
  },
  {
   "cell_type": "code",
   "execution_count": 14,
   "id": "104e7014",
   "metadata": {},
   "outputs": [
    {
     "name": "stdout",
     "output_type": "stream",
     "text": [
      "Pi:3.14\n"
     ]
    }
   ],
   "source": [
    "pi = 3.14159\n",
    "print(f\"Pi:{pi:.2f}\")\n",
    "# round off to two decimal places"
   ]
  },
  {
   "cell_type": "code",
   "execution_count": 15,
   "id": "37eb51cc",
   "metadata": {},
   "outputs": [
    {
     "name": "stdout",
     "output_type": "stream",
     "text": [
      "Pi:3.142\n"
     ]
    }
   ],
   "source": [
    "pi = 3.14159\n",
    "print(f\"Pi:{pi:.3f}\")\n",
    "# round off to three decimal places"
   ]
  },
  {
   "cell_type": "code",
   "execution_count": 24,
   "id": "f4556337",
   "metadata": {},
   "outputs": [
    {
     "data": {
      "text/plain": [
       "'{x} is Day11'"
      ]
     },
     "execution_count": 24,
     "metadata": {},
     "output_type": "execute_result"
    }
   ],
   "source": [
    "# can include literal { or  } , use a double bracket\n",
    "x  = \"Day11\"\n",
    "f'{{x}} is {x}'"
   ]
  },
  {
   "cell_type": "code",
   "execution_count": 26,
   "id": "ea3ebc10",
   "metadata": {},
   "outputs": [
    {
     "data": {
      "text/plain": [
       "'1/3'"
      ]
     },
     "execution_count": 26,
     "metadata": {},
     "output_type": "execute_result"
    }
   ],
   "source": [
    "# fraction\n",
    "from fractions import Fraction\n",
    "f'{Fraction(1,3)}'"
   ]
  },
  {
   "cell_type": "markdown",
   "id": "cce1f65e",
   "metadata": {},
   "source": [
    "# **.format() method** ***(good for old python version)***"
   ]
  },
  {
   "cell_type": "code",
   "execution_count": 17,
   "id": "754baac7",
   "metadata": {},
   "outputs": [],
   "source": [
    "name = 'pallavi'\n",
    "age = 19"
   ]
  },
  {
   "cell_type": "code",
   "execution_count": 18,
   "id": "299b0092",
   "metadata": {},
   "outputs": [
    {
     "name": "stdout",
     "output_type": "stream",
     "text": [
      "My name is pallavi and  I am 19\n"
     ]
    }
   ],
   "source": [
    "print(\"My name is {} and  I am {}\".format(name , age))"
   ]
  }
 ],
 "metadata": {
  "kernelspec": {
   "display_name": "Python 3",
   "language": "python",
   "name": "python3"
  },
  "language_info": {
   "codemirror_mode": {
    "name": "ipython",
    "version": 3
   },
   "file_extension": ".py",
   "mimetype": "text/x-python",
   "name": "python",
   "nbconvert_exporter": "python",
   "pygments_lexer": "ipython3",
   "version": "3.11.2"
  }
 },
 "nbformat": 4,
 "nbformat_minor": 5
}
