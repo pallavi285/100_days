{
 "cells": [
  {
   "cell_type": "markdown",
   "id": "221c236e",
   "metadata": {},
   "source": [
    "# What is OOP? (Object-Oriented Programming)"
   ]
  },
  {
   "cell_type": "markdown",
   "id": "7669b843",
   "metadata": {},
   "source": [
    "OOp is a programming style that organizes code around objects insted of actions"
   ]
  },
  {
   "cell_type": "code",
   "execution_count": null,
   "id": "96bc0ea1",
   "metadata": {},
   "outputs": [],
   "source": []
  }
 ],
 "metadata": {
  "kernelspec": {
   "display_name": "Python 3",
   "language": "python",
   "name": "python3"
  },
  "language_info": {
   "name": "python",
   "version": "3.11.9"
  }
 },
 "nbformat": 4,
 "nbformat_minor": 5
}
