{
 "cells": [
  {
   "cell_type": "markdown",
   "id": "3a9a6774",
   "metadata": {},
   "source": [
    "# What is a ***class***?"
   ]
  },
  {
   "cell_type": "markdown",
   "id": "ec42fb26",
   "metadata": {},
   "source": [
    "A class is like a **blueprint**.(Recipe)     \n",
    "\n",
    "Imagine you run a cupcake shop , you design what every cupcake should have:\n",
    "- Falvor\n",
    "- Price     \n",
    "       \n",
    "That design is your **class**."
   ]
  },
  {
   "cell_type": "markdown",
   "id": "d45712c8",
   "metadata": {},
   "source": [
    "An **Object** is the cupcake you bake."
   ]
  },
  {
   "cell_type": "markdown",
   "id": "adb55b1e",
   "metadata": {},
   "source": [
    "|Concept|Meaning|Example|\n",
    "|-|-|-|\n",
    "|Class|Bluprint for object|class Cupcake:|\n",
    "|Object|Real item created From the class|c1 = Cupcake()|\n",
    "|Attributes|Data stored in an object|flover, prince|\n",
    "|Method|Action the object can do|show(),discount()|\n",
    "|self|Refers to the current object|Inside every method|"
   ]
  },
  {
   "cell_type": "code",
   "execution_count": null,
   "id": "b17ce2aa",
   "metadata": {},
   "outputs": [],
   "source": [
    "class Cupcake:\n",
    "    \n",
    "    def __init__(self,flavor,price):\n",
    "        #A special function that runs automatically whenever we make a newcupcake\n",
    "        \n",
    "        self.flavor = flavor\n",
    "        self.price = price\n",
    "    \n",
    "    def show(self):\n",
    "        print(f\"This is {self.flavor} cupcake costing ${self.price}\")\n",
    "        \n",
    "    def discount(self , percent):\n",
    "        new_price = self.price - (self.price * percent /100)\n",
    "        print(f\"After {percent}% discount,the {self.flavor} cupcake costs ${new_price}\")     "
   ]
  },
  {
   "cell_type": "code",
   "execution_count": 12,
   "id": "b187c985",
   "metadata": {},
   "outputs": [
    {
     "name": "stdout",
     "output_type": "stream",
     "text": [
      "This is Chocolate cupcake costing $5\n",
      "After 10% discount,the Chocolate cupcake costs $4.5\n"
     ]
    }
   ],
   "source": [
    "c1 = Cupcake(\"Chocolate\",5)\n",
    "c1.show()\n",
    "c1.discount(10)"
   ]
  },
  {
   "cell_type": "code",
   "execution_count": 13,
   "id": "f9abd320",
   "metadata": {},
   "outputs": [
    {
     "name": "stdout",
     "output_type": "stream",
     "text": [
      "Chocolate\n",
      "5\n"
     ]
    }
   ],
   "source": [
    "# Attribute\n",
    "print(c1.flavor)\n",
    "print(c1.price)\n",
    "#Flavor and price are the attribute \n",
    "#attribute - data stored in the object"
   ]
  }
 ],
 "metadata": {
  "kernelspec": {
   "display_name": "Python 3",
   "language": "python",
   "name": "python3"
  },
  "language_info": {
   "codemirror_mode": {
    "name": "ipython",
    "version": 3
   },
   "file_extension": ".py",
   "mimetype": "text/x-python",
   "name": "python",
   "nbconvert_exporter": "python",
   "pygments_lexer": "ipython3",
   "version": "3.11.9"
  }
 },
 "nbformat": 4,
 "nbformat_minor": 5
}
