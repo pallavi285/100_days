{
 "cells": [
  {
   "cell_type": "markdown",
   "id": "11d5589f",
   "metadata": {},
   "source": [
    "# **Loops in Python**"
   ]
  },
  {
   "cell_type": "markdown",
   "id": "8b6430e2",
   "metadata": {},
   "source": [
    "## While loop statement "
   ]
  },
  {
   "cell_type": "markdown",
   "id": "1378b0e7",
   "metadata": {},
   "source": [
    "A while loop statement in Python is used to repeatedly execute a block of code as long as a condition is true.    \n",
    "It is typically used when you don't know how many times the loop will run in advance."
   ]
  },
  {
   "cell_type": "code",
   "execution_count": 2,
   "id": "9e378407",
   "metadata": {},
   "outputs": [
    {
     "name": "stdout",
     "output_type": "stream",
     "text": [
      "1\n",
      "2\n",
      "3\n",
      "4\n",
      "5\n"
     ]
    }
   ],
   "source": [
    "count = 1\n",
    "while count <=5 :\n",
    "    print(count)\n",
    "    count +=1"
   ]
  },
  {
   "cell_type": "markdown",
   "id": "9bb0e0e4",
   "metadata": {},
   "source": [
    "## for loop statement"
   ]
  },
  {
   "cell_type": "markdown",
   "id": "7a903e85",
   "metadata": {},
   "source": [
    "A for-loop statement is Python is used to iterate over a sequence (such as a list , tuple ,or string) and perform a certain action for each item in the sequence."
   ]
  },
  {
   "cell_type": "code",
   "execution_count": 3,
   "id": "7b192512",
   "metadata": {},
   "outputs": [
    {
     "name": "stdout",
     "output_type": "stream",
     "text": [
      "d\n",
      "a\n",
      "y\n",
      "1\n",
      "2\n"
     ]
    }
   ],
   "source": [
    "word = \"day12\"\n",
    "for letter in word:\n",
    "    print(letter)"
   ]
  },
  {
   "cell_type": "code",
   "execution_count": 7,
   "id": "b965750d",
   "metadata": {},
   "outputs": [
    {
     "name": "stdout",
     "output_type": "stream",
     "text": [
      "d\n",
      "a\n",
      "y\n",
      "1\n",
      "2\n"
     ]
    },
    {
     "ename": "StopIteration",
     "evalue": "",
     "output_type": "error",
     "traceback": [
      "\u001b[1;31m---------------------------------------------------------------------------\u001b[0m",
      "\u001b[1;31mStopIteration\u001b[0m                             Traceback (most recent call last)",
      "Cell \u001b[1;32mIn[7], line 14\u001b[0m\n\u001b[0;32m     11\u001b[0m \u001b[38;5;28mprint\u001b[39m(\u001b[38;5;28mnext\u001b[39m(my_iterator))\n\u001b[0;32m     13\u001b[0m \u001b[38;5;66;03m#after calling \u001b[39;00m\n\u001b[1;32m---> 14\u001b[0m \u001b[38;5;28mprint\u001b[39m(\u001b[38;5;28;43mnext\u001b[39;49m\u001b[43m(\u001b[49m\u001b[43mmy_iterator\u001b[49m\u001b[43m)\u001b[49m) \n\u001b[0;32m     15\u001b[0m \u001b[38;5;66;03m## StopIteration error\u001b[39;00m\n",
      "\u001b[1;31mStopIteration\u001b[0m: "
     ]
    }
   ],
   "source": [
    "## Behind the scenes \n",
    "\n",
    "## convert list into iterator\n",
    "my_iterator = iter(word) \n",
    "\n",
    "## next() retrive the next element \n",
    "print(next(my_iterator))\n",
    "print(next(my_iterator))\n",
    "print(next(my_iterator))\n",
    "print(next(my_iterator))\n",
    "print(next(my_iterator))\n",
    "\n",
    "#after calling \n",
    "print(next(my_iterator)) \n",
    "## StopIteration error"
   ]
  },
  {
   "cell_type": "markdown",
   "id": "5d58a24c",
   "metadata": {},
   "source": [
    "| Concept           | Example                       | Description                                |\n",
    "| ----------------- | ----------------------------- | ------------------------------------------ |\n",
    "| **Iterable**      | `word`                     | Can be looped over; supports `iter()`      |\n",
    "| **Iterator**      | `my_iterator = iter(word)` | Returns items one at a time using `next()` |\n",
    "| **StopIteration** | `next()` past end             | Signals there are no more items            |\n"
   ]
  }
 ],
 "metadata": {
  "kernelspec": {
   "display_name": "Python 3",
   "language": "python",
   "name": "python3"
  },
  "language_info": {
   "codemirror_mode": {
    "name": "ipython",
    "version": 3
   },
   "file_extension": ".py",
   "mimetype": "text/x-python",
   "name": "python",
   "nbconvert_exporter": "python",
   "pygments_lexer": "ipython3",
   "version": "3.11.2"
  }
 },
 "nbformat": 4,
 "nbformat_minor": 5
}
