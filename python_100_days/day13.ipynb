{
 "cells": [
  {
   "cell_type": "markdown",
   "id": "11d5589f",
   "metadata": {},
   "source": [
    "# **Loops in Python**"
   ]
  },
  {
   "cell_type": "markdown",
   "id": "8b6430e2",
   "metadata": {},
   "source": [
    "## While loop statement "
   ]
  },
  {
   "cell_type": "markdown",
   "id": "1378b0e7",
   "metadata": {},
   "source": [
    "A while loop statement in Python is used to repeatedly execute a block of code as long as a condition is true.    \n",
    "It is typically used when you don't know how many times the loop will run in advance."
   ]
  },
  {
   "cell_type": "code",
   "execution_count": null,
   "id": "9e378407",
   "metadata": {},
   "outputs": [
    {
     "name": "stdout",
     "output_type": "stream",
     "text": [
      "1\n",
      "2\n",
      "3\n",
      "4\n",
      "5\n"
     ]
    }
   ],
   "source": [
    "count = 1\n",
    "while count <=5 :\n",
    "    print(count)\n",
    "    count +=1"
   ]
  },
  {
   "cell_type": "markdown",
   "id": "9bb0e0e4",
   "metadata": {},
   "source": [
    "## for loop statement"
   ]
  },
  {
   "cell_type": "markdown",
   "id": "7a903e85",
   "metadata": {},
   "source": [
    "A for-loop statement is Python is used to iterate over a sequence (such as a list , tuple ,or string) and perform a certain action for each item in the sequence."
   ]
  },
  {
   "cell_type": "code",
   "execution_count": null,
   "id": "7b192512",
   "metadata": {},
   "outputs": [
    {
     "name": "stdout",
     "output_type": "stream",
     "text": [
      "d\n",
      "a\n",
      "y\n",
      "1\n",
      "2\n"
     ]
    }
   ],
   "source": [
    "word = \"day12\"\n",
    "for letter in word:\n",
    "    print(letter)"
   ]
  }
 ],
 "metadata": {
  "language_info": {
   "name": "python"
  }
 },
 "nbformat": 4,
 "nbformat_minor": 5
}
