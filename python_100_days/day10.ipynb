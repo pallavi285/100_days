{
 "cells": [
  {
   "cell_type": "markdown",
   "id": "2ee5fb3c",
   "metadata": {},
   "source": [
    "# String method part 2"
   ]
  },
  {
   "cell_type": "markdown",
   "id": "bda9ca1a",
   "metadata": {},
   "source": [
    "\n",
    "## Modify and Replace"
   ]
  },
  {
   "cell_type": "markdown",
   "id": "046687a6",
   "metadata": {},
   "source": [
    "\n",
    "### str.**replace**(*old , new , count=-1*)"
   ]
  },
  {
   "cell_type": "markdown",
   "id": "57a5b382",
   "metadata": {},
   "source": [
    "Return a *copy* of the string with all occurences of substring ***old replaced by new.***\n",
    "- if *count* is given , only the first occurrence are replaced.\n",
    "- if *count* is not specified of -1 , then all occurences are replaced."
   ]
  },
  {
   "cell_type": "code",
   "execution_count": null,
   "id": "0c0d441e",
   "metadata": {},
   "outputs": [
    {
     "name": "stdout",
     "output_type": "stream",
     "text": [
      "Day 11 of 110 days of code.\n"
     ]
    }
   ],
   "source": [
    "text = \"Day 10 of 100 days of code.\"\n",
    "print(text.replace('10','11'))\n",
    "#  Wherever it will see 10 \n",
    "# it will be replaced by the 11"
   ]
  },
  {
   "cell_type": "code",
   "execution_count": null,
   "id": "5f8e4bf4",
   "metadata": {},
   "outputs": [
    {
     "name": "stdout",
     "output_type": "stream",
     "text": [
      "Day 11 of 100 days of code.\n"
     ]
    }
   ],
   "source": [
    "text = \"Day 10 of 100 days of code.\"\n",
    "print(text.replace('10','11' ,1))\n",
    "# when count = 1"
   ]
  },
  {
   "cell_type": "markdown",
   "id": "bed3c16a",
   "metadata": {},
   "source": [
    "### str.**strip**(*chars = None*)"
   ]
  },
  {
   "cell_type": "markdown",
   "id": "9f830b3d",
   "metadata": {},
   "source": [
    "Return a copy of the string with leading and trailing characters removed.\n",
    "- if *chars* are *ommitted* or *None*, the chars argument *defaults* to removing white space."
   ]
  },
  {
   "cell_type": "code",
   "execution_count": null,
   "id": "f53a0023",
   "metadata": {},
   "outputs": [
    {
     "name": "stdout",
     "output_type": "stream",
     "text": [
      "Day 10 of 100 days of code.\n"
     ]
    }
   ],
   "source": [
    "text = \"    Day 10 of 100 days of code.   \"\n",
    "print(text.strip())"
   ]
  },
  {
   "cell_type": "code",
   "execution_count": 30,
   "id": "abf17e18",
   "metadata": {},
   "outputs": [
    {
     "name": "stdout",
     "output_type": "stream",
     "text": [
      "example\n"
     ]
    }
   ],
   "source": [
    "text = \"www.example.com\"\n",
    "print(text.strip('com.w'))"
   ]
  },
  {
   "cell_type": "code",
   "execution_count": 34,
   "id": "27e0542f",
   "metadata": {},
   "outputs": [
    {
     "name": "stdout",
     "output_type": "stream",
     "text": [
      " Day 10 of 100 days of code \n"
     ]
    }
   ],
   "source": [
    "text = text = \".....##aaaaaaaaa Day 10 of 100 days of code .......###\"\n",
    "print(text.strip('a.#'))"
   ]
  },
  {
   "cell_type": "markdown",
   "id": "522441c8",
   "metadata": {},
   "source": [
    "## split and Join"
   ]
  },
  {
   "cell_type": "markdown",
   "id": "13170b32",
   "metadata": {},
   "source": [
    "### str.**split**(*sep = None , maxsplit=-1*)"
   ]
  },
  {
   "cell_type": "markdown",
   "id": "7906caeb",
   "metadata": {},
   "source": [
    "Return a *list* of words in the string , using *sep* as the delimiter string.\n",
    "- if *maxsplit* is given ,at most maxsplit are done(thus the list will have at most **maxsplit+1** elements)\n",
    "- if *maxsplit* is **not specified** or **-1** there is no limit on the number of splits(all possible splits are made"
   ]
  },
  {
   "cell_type": "code",
   "execution_count": 19,
   "id": "f44cd737",
   "metadata": {},
   "outputs": [
    {
     "name": "stdout",
     "output_type": "stream",
     "text": [
      "['Day', '10', 'of', '100', 'days', 'of', 'code.']\n",
      "['Day', '10', 'of', '100', 'days', 'of', 'code.']\n"
     ]
    }
   ],
   "source": [
    "text = \"Day 10 of 100 days of code.\"\n",
    "print(text.split()) # split by space\n",
    "\n",
    "text = \"Day 10 of 100 days of code.\"\n",
    "print(text.split(' ')) # split by space"
   ]
  },
  {
   "cell_type": "code",
   "execution_count": null,
   "id": "fdec35a8",
   "metadata": {},
   "outputs": [
    {
     "name": "stdout",
     "output_type": "stream",
     "text": [
      "['D', 'y 10 of 100 d', 'ys of code.']\n"
     ]
    }
   ],
   "source": [
    "text = \"Day 10 of 100 days of code.\"\n",
    "print(text.split('a')) # split by word a "
   ]
  },
  {
   "cell_type": "code",
   "execution_count": 22,
   "id": "725e163a",
   "metadata": {},
   "outputs": [
    {
     "name": "stdout",
     "output_type": "stream",
     "text": [
      "with maxlimit ['Day', '10 of 100 days of code.']\n",
      "without maxlimit ['Day', '10 of 100 days of code.']\n"
     ]
    }
   ],
   "source": [
    "#using maxlimit  \n",
    "text = \"Day 10 of 100 days of code.\"\n",
    "print(\"with maxlimit\",text.split(' ',1)) \n",
    "# split by 'a' \n",
    "\n",
    "text = \"Day 10 of 100 days of code.\"\n",
    "print(\"without maxlimit\",text.split(' ',1))"
   ]
  },
  {
   "cell_type": "code",
   "execution_count": 26,
   "id": "ad229a29",
   "metadata": {},
   "outputs": [
    {
     "name": "stdout",
     "output_type": "stream",
     "text": [
      "['Day', '10 of 100 days of code.']\n",
      "['Day', '10', 'of 100 days of code.']\n",
      "['Day', '10', 'of', '100 days of code.']\n",
      "['Day', '10', 'of', '100', 'days', 'of', 'code.']\n"
     ]
    }
   ],
   "source": [
    "text = \"Day 10 of 100 days of code.\"\n",
    "print(text.split(maxsplit = 1)) \n",
    "print(text.split(maxsplit = 2))\n",
    "print(text.split(maxsplit = 3))\n",
    "print(text.split(maxsplit = -1))"
   ]
  },
  {
   "cell_type": "markdown",
   "id": "cb11fbae",
   "metadata": {},
   "source": [
    "### str.**join**(*iterable*)"
   ]
  },
  {
   "cell_type": "markdown",
   "id": "e95f6c71",
   "metadata": {},
   "source": [
    "Return a *string* which is the *concatenation* of the string in the *iterable*."
   ]
  },
  {
   "cell_type": "code",
   "execution_count": null,
   "id": "fc115566",
   "metadata": {},
   "outputs": [
    {
     "name": "stdout",
     "output_type": "stream",
     "text": [
      "Day 10 of 100 days of code.\n"
     ]
    }
   ],
   "source": [
    "text = ' '.join(['Day', \n",
    "                 '10', 'of', '100',\n",
    "                 'days', 'of', 'code.'])\n",
    "print(text)"
   ]
  },
  {
   "cell_type": "markdown",
   "id": "a3edd68e",
   "metadata": {},
   "source": [
    "A **TypeError** will be raised if there are any non-string values in *iterable*."
   ]
  },
  {
   "cell_type": "code",
   "execution_count": null,
   "id": "e46de84a",
   "metadata": {},
   "outputs": [
    {
     "ename": "TypeError",
     "evalue": "sequence item 0: expected str instance, int found",
     "output_type": "error",
     "traceback": [
      "\u001b[1;31m---------------------------------------------------------------------------\u001b[0m",
      "\u001b[1;31mTypeError\u001b[0m                                 Traceback (most recent call last)",
      "Cell \u001b[1;32mIn[40], line 1\u001b[0m\n\u001b[1;32m----> 1\u001b[0m text \u001b[38;5;241m=\u001b[39m \u001b[38;5;124;43m'\u001b[39;49m\u001b[38;5;124;43m \u001b[39;49m\u001b[38;5;124;43m'\u001b[39;49m\u001b[38;5;241;43m.\u001b[39;49m\u001b[43mjoin\u001b[49m\u001b[43m(\u001b[49m\u001b[43m[\u001b[49m\u001b[38;5;241;43m1\u001b[39;49m\u001b[43m,\u001b[49m\u001b[38;5;241;43m2\u001b[39;49m\u001b[43m,\u001b[49m\u001b[38;5;241;43m3\u001b[39;49m\u001b[43m]\u001b[49m\u001b[43m)\u001b[49m\n\u001b[0;32m      2\u001b[0m \u001b[38;5;28mprint\u001b[39m(text)\n",
      "\u001b[1;31mTypeError\u001b[0m: sequence item 0: expected str instance, int found"
     ]
    }
   ],
   "source": [
    "text = ' '.join([1,2,3])\n",
    "print(text)\n",
    "#TypeError"
   ]
  },
  {
   "cell_type": "code",
   "execution_count": 45,
   "id": "f3d49a8e",
   "metadata": {},
   "outputs": [
    {
     "name": "stdout",
     "output_type": "stream",
     "text": [
      "1 2 3\n"
     ]
    }
   ],
   "source": [
    "text = ' '.join(('1','2','3'))\n",
    "print(text)"
   ]
  }
 ],
 "metadata": {
  "kernelspec": {
   "display_name": "Python 3",
   "language": "python",
   "name": "python3"
  },
  "language_info": {
   "codemirror_mode": {
    "name": "ipython",
    "version": 3
   },
   "file_extension": ".py",
   "mimetype": "text/x-python",
   "name": "python",
   "nbconvert_exporter": "python",
   "pygments_lexer": "ipython3",
   "version": "3.11.2"
  }
 },
 "nbformat": 4,
 "nbformat_minor": 5
}
