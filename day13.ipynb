{
 "cells": [
  {
   "cell_type": "markdown",
   "id": "597c9636",
   "metadata": {},
   "source": [
    "# Recusion basics"
   ]
  }
 ],
 "metadata": {
  "language_info": {
   "name": "python"
  }
 },
 "nbformat": 4,
 "nbformat_minor": 5
}
