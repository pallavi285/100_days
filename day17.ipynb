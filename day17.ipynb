{
 "cells": [
  {
   "cell_type": "markdown",
   "id": "b25b0922",
   "metadata": {},
   "source": [
    "# Prime number and factorization"
   ]
  }
 ],
 "metadata": {
  "language_info": {
   "name": "python"
  }
 },
 "nbformat": 4,
 "nbformat_minor": 5
}
