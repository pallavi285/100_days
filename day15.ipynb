{
 "cells": [
  {
   "cell_type": "markdown",
   "id": "3d1d39d2",
   "metadata": {},
   "source": [
    "# Nested Loop Practice"
   ]
  }
 ],
 "metadata": {
  "language_info": {
   "name": "python"
  }
 },
 "nbformat": 4,
 "nbformat_minor": 5
}
