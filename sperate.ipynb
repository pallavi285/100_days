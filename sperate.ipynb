{
 "cells": [
  {
   "cell_type": "markdown",
   "id": "5d88615a",
   "metadata": {},
   "source": [
    "# Seprating characters and numbers in a string"
   ]
  },
  {
   "cell_type": "markdown",
   "id": "ad506132",
   "metadata": {},
   "source": [
    "To separate characters (letters) and numbers from a string in Python, you can use different approaches. Here are three methods:\n",
    "\n",
    "1. Using isalpha() and isdigit()\n",
    "\n",
    "Pythondef separate_char_and_num(s):\n",
    "    letters = ''.join([char for char in s if char.isalpha()])\n",
    "    numbers = ''.join([char for char in s if char.isdigit()])\n",
    "    return letters, numbers\n",
    "\n",
    "# Example\n",
    "string = \"abc123\"\n",
    "letters, numbers = separate_char_and_num(string)\n",
    "print(\"Letters:\", letters)  # Output: abc\n",
    "print(\"Numbers:\", numbers)  # Output: 123\n",
    "\n",
    "\n",
    "2. Using Regular Expressions (re)\n",
    "Pythonimport re\n",
    "\n",
    "def separate_char_and_num(s):\n",
    "    letters = ''.join(re.findall(r'[a-zA-Z]', s))\n",
    "    numbers = ''.join(re.findall(r'\\d', s))\n",
    "    return letters, numbers\n",
    "\n",
    "# Example\n",
    "string = \"abc123\"\n",
    "letters, numbers = separate_char_and_num(string)\n",
    "print(\"Letters:\", letters)  # Output: abc\n",
    "print(\"Numbers:\", numbers)  # Output: 123\n",
    "\n",
    "\n",
    "3. Using filter()\n",
    "Pythondef separate_char_and_num(s):\n",
    "    letters = ''.join(filter(str.isalpha, s))\n",
    "    numbers = ''.join(filter(str.isdigit, s))\n",
    "    return letters, numbers\n",
    "\n",
    "# Example\n",
    "string = \"abc123\"\n",
    "letters, numbers = separate_char_and_num(string)\n",
    "print(\"Letters:\", letters)  # Output: abc\n",
    "print(\"Numbers:\", numbers)  # Output: 123\n",
    "\n",
    "\n",
    "All these methods will effectively separate the characters and numbers from a string. Choose the one that best fits your coding style! 😊\n"
   ]
  },
  {
   "cell_type": "code",
   "execution_count": 2,
   "id": "73323dc1",
   "metadata": {},
   "outputs": [
    {
     "name": "stdout",
     "output_type": "stream",
     "text": [
      "Letters: abc\n",
      "Numbers: 123\n",
      "Letters: abc\n",
      "Numbers: 123\n",
      "Letters: abc\n",
      "Numbers: 123\n"
     ]
    }
   ],
   "source": [
    "# To separate characters (letters) and numbers from a string in Python,\n",
    "# you can use different approaches. Here are three methods:\n",
    "\n",
    "# 1. Using isalpha() and isdigit()\n",
    "# Python\n",
    "def separate_char_and_num(s):\n",
    "    letters = ''.join([char for char in s if char.isalpha()])\n",
    "    numbers = ''.join([char for char in s if char.isdigit()])\n",
    "    return letters, numbers\n",
    "\n",
    "# Example\n",
    "string = \"abc123\"\n",
    "letters, numbers = separate_char_and_num(string)\n",
    "print(\"Letters:\", letters)  # Output: abc\n",
    "print(\"Numbers:\", numbers)  # Output: 123\n",
    "\n",
    "\n",
    "# 2. Using Regular Expressions (re)\n",
    "# Python\n",
    "import re\n",
    "\n",
    "def separate_char_and_num(s):\n",
    "    letters = ''.join(re.findall(r'[a-zA-Z]', s))\n",
    "    numbers = ''.join(re.findall(r'\\d', s))\n",
    "    return letters, numbers\n",
    "\n",
    "# Example\n",
    "string = \"abc123\"\n",
    "letters, numbers = separate_char_and_num(string)\n",
    "print(\"Letters:\", letters)  # Output: abc\n",
    "print(\"Numbers:\", numbers)  # Output: 123\n",
    "\n",
    "\n",
    "# 3. Using filter()\n",
    "# Python\n",
    "def separate_char_and_num(s):\n",
    "    letters = ''.join(filter(str.isalpha, s))\n",
    "    numbers = ''.join(filter(str.isdigit, s))\n",
    "    return letters, numbers\n",
    "\n",
    "# Example\n",
    "string = \"abc123\"\n",
    "letters, numbers = separate_char_and_num(string)\n",
    "print(\"Letters:\", letters)  # Output: abc\n",
    "print(\"Numbers:\", numbers)  # Output: 123\n",
    "\n",
    "\n",
    "#All these methods will effectively separate the characters and numbers from a string.\n",
    "# Choose the one that best fits your coding style! 😊\n"
   ]
  }
 ],
 "metadata": {
  "kernelspec": {
   "display_name": "Python 3",
   "language": "python",
   "name": "python3"
  },
  "language_info": {
   "codemirror_mode": {
    "name": "ipython",
    "version": 3
   },
   "file_extension": ".py",
   "mimetype": "text/x-python",
   "name": "python",
   "nbconvert_exporter": "python",
   "pygments_lexer": "ipython3",
   "version": "3.11.2"
  }
 },
 "nbformat": 4,
 "nbformat_minor": 5
}
